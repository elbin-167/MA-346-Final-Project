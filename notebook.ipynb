{
 "cells": [
  {
   "cell_type": "markdown",
   "source": "# MA 346 Final Project",
   "metadata": {
    "cell_id": "a23bc7420e98430887b080f2153234c2",
    "tags": [],
    "is_collapsed": false,
    "deepnote_cell_type": "text-cell-h1"
   }
  },
  {
   "cell_type": "markdown",
   "source": "For this project, we will examine the aircraft accidents that occurred from 2018-2022 and focus on the manufacturers of the aircraft involved. We will then examine how much of the accidents over the past 30 years involved the aircraft from those manufacturers. We can use those two datasets to see if there may be an indication of an aircraft manufacturer overall safety history.\n\nFirst, we must read the relevant datasets of accidents that took place from 2018-2022 and how much of the crash fatalities involved a specific manufacturer.",
   "metadata": {
    "cell_id": "0fa0c93930d84c45bcd75398fd60c459",
    "tags": [],
    "deepnote_cell_type": "markdown",
    "deepnote_cell_height": 200.78125
   }
  },
  {
   "cell_type": "code",
   "metadata": {
    "tags": [],
    "cell_id": "19286fb5-9527-4b5a-b2e0-a1dc60c6a465",
    "deepnote_to_be_reexecuted": false,
    "source_hash": "7b04c2ea",
    "execution_start": 1651158495980,
    "execution_millis": 2027,
    "deepnote_cell_type": "code",
    "deepnote_cell_height": 705
   },
   "source": "import streamlit as st\nimport pandas as pd\nimport numpy as np\naccidents_df = pd.read_csv('aircraft_accidents_excel.csv')\naircraft_manu = pd.read_csv('Make Fatalities 1989-2018.csv')\naccidents_df",
   "outputs": [],
   "execution_count": null
  },
  {
   "cell_type": "code",
   "metadata": {
    "cell_id": "b1fd908488584edb88315c4612c20fef",
    "tags": [],
    "deepnote_to_be_reexecuted": true,
    "source_hash": "6f33cfb4",
    "execution_start": 1651158413827,
    "execution_millis": 55,
    "deepnote_table_state": {
     "pageSize": 10,
     "pageIndex": 0,
     "filters": [],
     "sortBy": []
    },
    "deepnote_table_loading": false,
    "deepnote_cell_type": "code",
    "deepnote_cell_height": 615
   },
   "source": "accidents_df",
   "outputs": [
    {
     "output_type": "execute_result",
     "execution_count": 2,
     "data": {
      "application/vnd.deepnote.dataframe.v3+json": {
       "column_count": 7,
       "row_count": 49,
       "columns": [
        {
         "name": "Date",
         "dtype": "object",
         "stats": {
          "unique_count": 47,
          "nan_count": 0,
          "categories": [
           {
            "name": "3/11/18",
            "count": 2
           },
           {
            "name": "5/5/19",
            "count": 2
           },
           {
            "name": "45 others",
            "count": 45
           }
          ]
         }
        },
        {
         "name": "Location",
         "dtype": "object",
         "stats": {
          "unique_count": 49,
          "nan_count": 0,
          "categories": [
           {
            "name": "Zhengchang, Suiyang County, Guizhou Province",
            "count": 1
           },
           {
            "name": "Grand Canyon, Arizona",
            "count": 1
           },
           {
            "name": "47 others",
            "count": 47
           }
          ]
         }
        },
        {
         "name": "Model",
         "dtype": "object",
         "stats": {
          "unique_count": 49,
          "nan_count": 0,
          "categories": [
           {
            "name": "Shaanxi Y-8GX-3",
            "count": 1
           },
           {
            "name": "Eurocopter EC 130B4",
            "count": 1
           },
           {
            "name": "47 others",
            "count": 47
           }
          ]
         }
        },
        {
         "name": "Registration",
         "dtype": "object",
         "stats": {
          "unique_count": 49,
          "nan_count": 0,
          "categories": [
           {
            "name": "30513",
            "count": 1
           },
           {
            "name": "N155GC",
            "count": 1
           },
           {
            "name": "47 others",
            "count": 47
           }
          ]
         }
        },
        {
         "name": "Fatalities",
         "dtype": "object",
         "stats": {
          "unique_count": 20,
          "nan_count": 0,
          "categories": [
           {
            "name": "100.00%",
            "count": 29
           },
           {
            "name": "83.33%",
            "count": 2
           },
           {
            "name": "18 others",
            "count": 18
           }
          ]
         }
        },
        {
         "name": "lat",
         "dtype": "float64",
         "stats": {
          "unique_count": 49,
          "nan_count": 0,
          "min": "-41.47524935",
          "max": "61.57421792",
          "histogram": [
           {
            "bin_start": -41.47524935,
            "bin_end": -31.170302622999998,
            "count": 1
           },
           {
            "bin_start": -31.170302622999998,
            "bin_end": -20.865355895999997,
            "count": 1
           },
           {
            "bin_start": -20.865355895999997,
            "bin_end": -10.560409168999996,
            "count": 0
           },
           {
            "bin_start": -10.560409168999996,
            "bin_end": -0.25546244199999535,
            "count": 4
           },
           {
            "bin_start": -0.25546244199999535,
            "bin_end": 10.049484285000005,
            "count": 7
           },
           {
            "bin_start": 10.049484285000005,
            "bin_end": 20.354431012000006,
            "count": 4
           },
           {
            "bin_start": 20.354431012000006,
            "bin_end": 30.659377739000007,
            "count": 8
           },
           {
            "bin_start": 30.659377739000007,
            "bin_end": 40.96432446600001,
            "count": 13
           },
           {
            "bin_start": 40.96432446600001,
            "bin_end": 51.26927119300001,
            "count": 6
           },
           {
            "bin_start": 51.26927119300001,
            "bin_end": 61.57421792,
            "count": 5
           }
          ]
         }
        },
        {
         "name": "lon",
         "dtype": "float64",
         "stats": {
          "unique_count": 49,
          "nan_count": 0,
          "min": "-148.9807188",
          "max": "159.9482053",
          "histogram": [
           {
            "bin_start": -148.9807188,
            "bin_end": -118.08782639,
            "count": 1
           },
           {
            "bin_start": -118.08782639,
            "bin_end": -87.19493398,
            "count": 4
           },
           {
            "bin_start": -87.19493398,
            "bin_end": -56.30204157,
            "count": 8
           },
           {
            "bin_start": -56.30204157,
            "bin_end": -25.40914916,
            "count": 0
           },
           {
            "bin_start": -25.40914916,
            "bin_end": 5.483743250000003,
            "count": 1
           },
           {
            "bin_start": 5.483743250000003,
            "bin_end": 36.376635660000005,
            "count": 11
           },
           {
            "bin_start": 36.376635660000005,
            "bin_end": 67.26952807,
            "count": 10
           },
           {
            "bin_start": 67.26952807,
            "bin_end": 98.16242048000001,
            "count": 6
           },
           {
            "bin_start": 98.16242048000001,
            "bin_end": 129.05531289,
            "count": 6
           },
           {
            "bin_start": 129.05531289,
            "bin_end": 159.9482053,
            "count": 2
           }
          ]
         }
        },
        {
         "name": "_deepnote_index_column",
         "dtype": "int64"
        }
       ],
       "rows": [
        {
         "Date": "1/29/18",
         "Location": "Zhengchang, Suiyang County, Guizhou Province",
         "Model": "Shaanxi Y-8GX-3",
         "Registration": "30513",
         "Fatalities": "100.00%",
         "lat": 27.89521121,
         "lon": 107.252496,
         "_deepnote_index_column": 0
        },
        {
         "Date": "2/10/18",
         "Location": "Grand Canyon, Arizona",
         "Model": "Eurocopter EC 130B4",
         "Registration": "N155GC",
         "Fatalities": "42.86%",
         "lat": 36.10181357,
         "lon": -112.1225696,
         "_deepnote_index_column": 1
        },
        {
         "Date": "2/11/18",
         "Location": "Argunovo, Russia",
         "Model": "Antonov AN-148-100",
         "Registration": "RA-61704",
         "Fatalities": "100.00%",
         "lat": 59.85908366,
         "lon": 45.1042299,
         "_deepnote_index_column": 2
        },
        {
         "Date": "2/18/18",
         "Location": "Kohangan village, Iran",
         "Model": "ATR 72-212",
         "Registration": "EP-ATS",
         "Fatalities": "100.00%",
         "lat": 30.89611154,
         "lon": 51.65101995,
         "_deepnote_index_column": 3
        },
        {
         "Date": "3/6/18",
         "Location": "Latakia, Syria",
         "Model": "Antonov An-26",
         "Registration": "RF-92955/52",
         "Fatalities": "100.00%",
         "lat": 35.54681771,
         "lon": 35.80024656,
         "_deepnote_index_column": 4
        },
        {
         "Date": "3/11/18",
         "Location": "New York, New York",
         "Model": "Eurocopter AS 350B2",
         "Registration": "N350LH",
         "Fatalities": "83.33%",
         "lat": 40.72736832,
         "lon": -73.90016616,
         "_deepnote_index_column": 5
        },
        {
         "Date": "3/11/18",
         "Location": "81 miles SW of Shahre Kurd, Iran",
         "Model": "Canadair CL-600-2B16 Challenger 604",
         "Registration": "TC-TRB",
         "Fatalities": "100.00%",
         "lat": 32.29559101,
         "lon": 50.82507513,
         "_deepnote_index_column": 6
        },
        {
         "Date": "3/12/18",
         "Location": "Kathmandu, Nepal",
         "Model": "de Havilland Canada DHC-8-402Q Dash 8",
         "Registration": "S2-AGU ",
         "Fatalities": "71.83%",
         "lat": 27.75384501,
         "lon": 85.30779582,
         "_deepnote_index_column": 7
        },
        {
         "Date": "4/11/18",
         "Location": "Boufarik AB, Algeria",
         "Model": "Ilyushin 76-TD",
         "Registration": "7T-WIP",
         "Fatalities": "100.00%",
         "lat": 36.59217168,
         "lon": 2.938957653,
         "_deepnote_index_column": 8
        },
        {
         "Date": "4/17/18",
         "Location": "NW of Philadelphia, Pennsylvania",
         "Model": "Boeing 737-7H4",
         "Registration": "N722SW",
         "Fatalities": "0.67%",
         "lat": 40.220593,
         "lon": -75.32947645,
         "_deepnote_index_column": 9
        }
       ]
      },
      "text/plain": "        Date                                      Location  \\\n0    1/29/18  Zhengchang, Suiyang County, Guizhou Province   \n1    2/10/18                         Grand Canyon, Arizona   \n2    2/11/18                              Argunovo, Russia   \n3    2/18/18                        Kohangan village, Iran   \n4     3/6/18                                Latakia, Syria   \n5    3/11/18                            New York, New York   \n6    3/11/18              81 miles SW of Shahre Kurd, Iran   \n7    3/12/18                              Kathmandu, Nepal   \n8    4/11/18                          Boufarik AB, Algeria   \n9    4/17/18              NW of Philadelphia, Pennsylvania   \n10    5/2/18                       Port Wentworth, Georgia   \n11   5/18/18                                  Havana, Cuba   \n12    6/5/18                           Near Njabini, Kenya   \n13   7/10/18                        Pretoria, South Africa   \n14    8/4/18                            Flims, Switzerland   \n15   9/17/18         Near Latakia-Khmeimim Air Base, Syria   \n16   9/28/18                             Chuuk, Micronesia   \n17  10/29/18                        Off Jakarta, Indonesia   \n18   11/6/18                            Georgetown, Guyana   \n19   1/14/19                                   Karaj, Iran   \n20   2/23/19                                Houston, Texas   \n21    3/9/19                 Vereda La Bendicion, Colombia   \n22   3/10/19                            Bishoftu, Ethiopia   \n23   4/16/19                           Puerto Montt, Chile   \n24    5/5/19                         Near Monclava, Mexico   \n25    5/5/19                                Moscow, Russia   \n26    6/3/19                              Near Lipo, India   \n27   7/30/19                             Rawalpindi, India   \n28   9/11/19                                  Toledo, Ohio   \n29   10/4/19                                 Lviv, Ukraine   \n30  11/24/19            Goma, Democratic Republic of Congo   \n31  12/27/19                            Almaty, Kazakhstan   \n32    1/2/20                                Geneina, Sudan   \n33    1/8/20                           Near Shahriah, Iran   \n34    2/5/20                              Istanbul, Turkey   \n35   3/29/20                           Manila, Philippines   \n36   5/22/20                             Karachi, Pakistan   \n37    8/7/20                                Calicut, India   \n38   8/22/20                             Juba, South Sudan   \n39   9/25/20                         Near Chuguev, Ukraine   \n40    1/9/21                       Near Jakarta, Indonesia   \n41    3/2/21                                  Pieri, Sudan   \n42   3/28/21                            Near Butte, Alaska   \n43   5/21/21                          Near Kaduna, Nigeria   \n44   6/10/21                    Near Pyin Oo Lwin, Myanmar   \n45    7/4/21                    Patikul, Sulu, Philippines   \n46    7/6/21                                Palana, Russia   \n47   9/12/21                        Kazachinskoye , Russia   \n48  12/27/21                          El Cajon, California   \n\n                                       Model Registration Fatalities  \\\n0                            Shaanxi Y-8GX-3        30513    100.00%   \n1                        Eurocopter EC 130B4       N155GC     42.86%   \n2                         Antonov AN-148-100     RA-61704    100.00%   \n3                                 ATR 72-212       EP-ATS    100.00%   \n4                              Antonov An-26  RF-92955/52    100.00%   \n5                        Eurocopter AS 350B2       N350LH     83.33%   \n6        Canadair CL-600-2B16 Challenger 604       TC-TRB    100.00%   \n7      de Havilland Canada DHC-8-402Q Dash 8      S2-AGU      71.83%   \n8                             Ilyushin 76-TD       7T-WIP    100.00%   \n9                             Boeing 737-7H4       N722SW      0.67%   \n10                 Lockheed HC-130H Hercules      65-0968    100.00%   \n11                            Boeing 737-201       XA-UHZ    100.00%   \n12                 Cessna 208B Grand Carivan       5Y-CAC    100.00%   \n13                            Convair CV-340       ZS-BRV      5.26%   \n14                             Junkers JU-52       HB-HOT    100.00%   \n15                           Ilyushin Il-20M     RF-93610    100.00%   \n16                            Boeing 737-8BK       P2-PXE      2.13%   \n17                          Boeing 737-MAX 8       PK-LQP    100.00%   \n18                            Boeing 757-N23      N524AT       0.78%   \n19                           Boeing 707-3J9C       EP-CPP     93.75%   \n20                          Boeing 767-375ER       N1217A    100.00%   \n21                              Douglas DC-3      HK-2494    100.00%   \n22                          Boeing 737 Max 8       ET-AVJ    100.00%   \n23  Pilatus-Britten Norman BN-2B-27 Islander      CC-CYR     100.00%   \n24           Canadair CL-600-2B16-Challenger       N601VH    100.00%   \n25                   Sukhoi Superjet-100-95B    RA-89098      52.56%   \n26                             Antonov An-32        K2752    100.00%   \n27                  Beechcraft B300 King Air          766    100.00%   \n28                           Convair CV-440F        N24DR    100.00%   \n29                           Antonov An-12BK       UR-CAH     62.50%   \n30                           Dornier 228-201       9S-GNH    100.00%   \n31                                Fokker 100      UP-F100     12.24%   \n32                            Antonov An12-A            ?    100.00%   \n33                         Boeing 737-8KV WL      UR-PSR     100.00%   \n34                            Boeing 737-86J       TC-IZK      1.69%   \n35                     IAI 1124A Westwind II     RP-C5880    100.00%   \n36                           Airbus A320-214       AP-BLD     97.98%   \n37                            Boeing 737-8HG       VT-AXH     10.53%   \n38                               Antonov 26B       EX-126     87.50%   \n39                            Antonov An26SH    76 yellow     96.30%   \n40                            Boeing 737-524       PK-CLC    100.00%   \n41                            Let L-410UVP-E     HK-4274     100.00%   \n42               Eurocopter AS350B3 Ecureuil       N351SH     83.33%   \n43             Beechcraft B300 King Air 350i       NAF203    100.00%   \n44                          Beechcraft 1900D         4610     85.71%   \n45                  Lockheed C-130H Hercules         5125     52.08%   \n46                        Antonov An 26B-100     RA-26085    100.00%   \n47                          Let L-410UVP-E20     RA-67042     25.00%   \n48                               Learjet 35A        N880Z    100.00%   \n\n          lat         lon  \n0   27.895211  107.252496  \n1   36.101814 -112.122570  \n2   59.859084   45.104230  \n3   30.896112   51.651020  \n4   35.546818   35.800247  \n5   40.727368  -73.900166  \n6   32.295591   50.825075  \n7   27.753845   85.307796  \n8   36.592172    2.938958  \n9   40.220593  -75.329476  \n10  32.163442  -81.178873  \n11  23.087608  -82.335922  \n12  -0.721656   36.649672  \n13 -25.643738   28.222501  \n14  46.858667    9.285954  \n15  35.417135   35.946187  \n16   5.491396  153.543239  \n17  -6.058998  106.701756  \n18   6.801942  -58.156686  \n19  35.886360   51.002232  \n20  29.917269  -95.242642  \n21   7.647442  -76.720762  \n22   8.758863   39.008498  \n23 -41.475249  -72.967939  \n24  26.878941 -101.361492  \n25  55.926269   37.615897  \n26  28.506433   94.461124  \n27  31.289737   75.792146  \n28  41.711599  -83.582530  \n29  49.845638   24.003967  \n30  -1.638860   29.214963  \n31  43.170286   76.944036  \n32  13.458220   22.436602  \n33  35.667255   51.026033  \n34  41.124172   28.934744  \n35  14.607452  120.990715  \n36  25.089540   67.204207  \n37  11.349395   75.775784  \n38   4.884634   31.560020  \n39  49.836374   36.675236  \n40  -6.229673  106.833591  \n41   8.032312   32.035392  \n42  61.574218 -148.980719  \n43  10.507353    7.441815  \n44  22.017967   96.456835  \n45   6.044126  121.086192  \n46  59.081204  159.948205  \n47  56.293947  107.384706  \n48  32.821728 -116.984125  ",
      "text/html": "<div>\n<style scoped>\n    .dataframe tbody tr th:only-of-type {\n        vertical-align: middle;\n    }\n\n    .dataframe tbody tr th {\n        vertical-align: top;\n    }\n\n    .dataframe thead th {\n        text-align: right;\n    }\n</style>\n<table border=\"1\" class=\"dataframe\">\n  <thead>\n    <tr style=\"text-align: right;\">\n      <th></th>\n      <th>Date</th>\n      <th>Location</th>\n      <th>Model</th>\n      <th>Registration</th>\n      <th>Fatalities</th>\n      <th>lat</th>\n      <th>lon</th>\n    </tr>\n  </thead>\n  <tbody>\n    <tr>\n      <th>0</th>\n      <td>1/29/18</td>\n      <td>Zhengchang, Suiyang County, Guizhou Province</td>\n      <td>Shaanxi Y-8GX-3</td>\n      <td>30513</td>\n      <td>100.00%</td>\n      <td>27.895211</td>\n      <td>107.252496</td>\n    </tr>\n    <tr>\n      <th>1</th>\n      <td>2/10/18</td>\n      <td>Grand Canyon, Arizona</td>\n      <td>Eurocopter EC 130B4</td>\n      <td>N155GC</td>\n      <td>42.86%</td>\n      <td>36.101814</td>\n      <td>-112.122570</td>\n    </tr>\n    <tr>\n      <th>2</th>\n      <td>2/11/18</td>\n      <td>Argunovo, Russia</td>\n      <td>Antonov AN-148-100</td>\n      <td>RA-61704</td>\n      <td>100.00%</td>\n      <td>59.859084</td>\n      <td>45.104230</td>\n    </tr>\n    <tr>\n      <th>3</th>\n      <td>2/18/18</td>\n      <td>Kohangan village, Iran</td>\n      <td>ATR 72-212</td>\n      <td>EP-ATS</td>\n      <td>100.00%</td>\n      <td>30.896112</td>\n      <td>51.651020</td>\n    </tr>\n    <tr>\n      <th>4</th>\n      <td>3/6/18</td>\n      <td>Latakia, Syria</td>\n      <td>Antonov An-26</td>\n      <td>RF-92955/52</td>\n      <td>100.00%</td>\n      <td>35.546818</td>\n      <td>35.800247</td>\n    </tr>\n    <tr>\n      <th>5</th>\n      <td>3/11/18</td>\n      <td>New York, New York</td>\n      <td>Eurocopter AS 350B2</td>\n      <td>N350LH</td>\n      <td>83.33%</td>\n      <td>40.727368</td>\n      <td>-73.900166</td>\n    </tr>\n    <tr>\n      <th>6</th>\n      <td>3/11/18</td>\n      <td>81 miles SW of Shahre Kurd, Iran</td>\n      <td>Canadair CL-600-2B16 Challenger 604</td>\n      <td>TC-TRB</td>\n      <td>100.00%</td>\n      <td>32.295591</td>\n      <td>50.825075</td>\n    </tr>\n    <tr>\n      <th>7</th>\n      <td>3/12/18</td>\n      <td>Kathmandu, Nepal</td>\n      <td>de Havilland Canada DHC-8-402Q Dash 8</td>\n      <td>S2-AGU</td>\n      <td>71.83%</td>\n      <td>27.753845</td>\n      <td>85.307796</td>\n    </tr>\n    <tr>\n      <th>8</th>\n      <td>4/11/18</td>\n      <td>Boufarik AB, Algeria</td>\n      <td>Ilyushin 76-TD</td>\n      <td>7T-WIP</td>\n      <td>100.00%</td>\n      <td>36.592172</td>\n      <td>2.938958</td>\n    </tr>\n    <tr>\n      <th>9</th>\n      <td>4/17/18</td>\n      <td>NW of Philadelphia, Pennsylvania</td>\n      <td>Boeing 737-7H4</td>\n      <td>N722SW</td>\n      <td>0.67%</td>\n      <td>40.220593</td>\n      <td>-75.329476</td>\n    </tr>\n    <tr>\n      <th>10</th>\n      <td>5/2/18</td>\n      <td>Port Wentworth, Georgia</td>\n      <td>Lockheed HC-130H Hercules</td>\n      <td>65-0968</td>\n      <td>100.00%</td>\n      <td>32.163442</td>\n      <td>-81.178873</td>\n    </tr>\n    <tr>\n      <th>11</th>\n      <td>5/18/18</td>\n      <td>Havana, Cuba</td>\n      <td>Boeing 737-201</td>\n      <td>XA-UHZ</td>\n      <td>100.00%</td>\n      <td>23.087608</td>\n      <td>-82.335922</td>\n    </tr>\n    <tr>\n      <th>12</th>\n      <td>6/5/18</td>\n      <td>Near Njabini, Kenya</td>\n      <td>Cessna 208B Grand Carivan</td>\n      <td>5Y-CAC</td>\n      <td>100.00%</td>\n      <td>-0.721656</td>\n      <td>36.649672</td>\n    </tr>\n    <tr>\n      <th>13</th>\n      <td>7/10/18</td>\n      <td>Pretoria, South Africa</td>\n      <td>Convair CV-340</td>\n      <td>ZS-BRV</td>\n      <td>5.26%</td>\n      <td>-25.643738</td>\n      <td>28.222501</td>\n    </tr>\n    <tr>\n      <th>14</th>\n      <td>8/4/18</td>\n      <td>Flims, Switzerland</td>\n      <td>Junkers JU-52</td>\n      <td>HB-HOT</td>\n      <td>100.00%</td>\n      <td>46.858667</td>\n      <td>9.285954</td>\n    </tr>\n    <tr>\n      <th>15</th>\n      <td>9/17/18</td>\n      <td>Near Latakia-Khmeimim Air Base, Syria</td>\n      <td>Ilyushin Il-20M</td>\n      <td>RF-93610</td>\n      <td>100.00%</td>\n      <td>35.417135</td>\n      <td>35.946187</td>\n    </tr>\n    <tr>\n      <th>16</th>\n      <td>9/28/18</td>\n      <td>Chuuk, Micronesia</td>\n      <td>Boeing 737-8BK</td>\n      <td>P2-PXE</td>\n      <td>2.13%</td>\n      <td>5.491396</td>\n      <td>153.543239</td>\n    </tr>\n    <tr>\n      <th>17</th>\n      <td>10/29/18</td>\n      <td>Off Jakarta, Indonesia</td>\n      <td>Boeing 737-MAX 8</td>\n      <td>PK-LQP</td>\n      <td>100.00%</td>\n      <td>-6.058998</td>\n      <td>106.701756</td>\n    </tr>\n    <tr>\n      <th>18</th>\n      <td>11/6/18</td>\n      <td>Georgetown, Guyana</td>\n      <td>Boeing 757-N23</td>\n      <td>N524AT</td>\n      <td>0.78%</td>\n      <td>6.801942</td>\n      <td>-58.156686</td>\n    </tr>\n    <tr>\n      <th>19</th>\n      <td>1/14/19</td>\n      <td>Karaj, Iran</td>\n      <td>Boeing 707-3J9C</td>\n      <td>EP-CPP</td>\n      <td>93.75%</td>\n      <td>35.886360</td>\n      <td>51.002232</td>\n    </tr>\n    <tr>\n      <th>20</th>\n      <td>2/23/19</td>\n      <td>Houston, Texas</td>\n      <td>Boeing 767-375ER</td>\n      <td>N1217A</td>\n      <td>100.00%</td>\n      <td>29.917269</td>\n      <td>-95.242642</td>\n    </tr>\n    <tr>\n      <th>21</th>\n      <td>3/9/19</td>\n      <td>Vereda La Bendicion, Colombia</td>\n      <td>Douglas DC-3</td>\n      <td>HK-2494</td>\n      <td>100.00%</td>\n      <td>7.647442</td>\n      <td>-76.720762</td>\n    </tr>\n    <tr>\n      <th>22</th>\n      <td>3/10/19</td>\n      <td>Bishoftu, Ethiopia</td>\n      <td>Boeing 737 Max 8</td>\n      <td>ET-AVJ</td>\n      <td>100.00%</td>\n      <td>8.758863</td>\n      <td>39.008498</td>\n    </tr>\n    <tr>\n      <th>23</th>\n      <td>4/16/19</td>\n      <td>Puerto Montt, Chile</td>\n      <td>Pilatus-Britten Norman BN-2B-27 Islander</td>\n      <td>CC-CYR</td>\n      <td>100.00%</td>\n      <td>-41.475249</td>\n      <td>-72.967939</td>\n    </tr>\n    <tr>\n      <th>24</th>\n      <td>5/5/19</td>\n      <td>Near Monclava, Mexico</td>\n      <td>Canadair CL-600-2B16-Challenger</td>\n      <td>N601VH</td>\n      <td>100.00%</td>\n      <td>26.878941</td>\n      <td>-101.361492</td>\n    </tr>\n    <tr>\n      <th>25</th>\n      <td>5/5/19</td>\n      <td>Moscow, Russia</td>\n      <td>Sukhoi Superjet-100-95B</td>\n      <td>RA-89098</td>\n      <td>52.56%</td>\n      <td>55.926269</td>\n      <td>37.615897</td>\n    </tr>\n    <tr>\n      <th>26</th>\n      <td>6/3/19</td>\n      <td>Near Lipo, India</td>\n      <td>Antonov An-32</td>\n      <td>K2752</td>\n      <td>100.00%</td>\n      <td>28.506433</td>\n      <td>94.461124</td>\n    </tr>\n    <tr>\n      <th>27</th>\n      <td>7/30/19</td>\n      <td>Rawalpindi, India</td>\n      <td>Beechcraft B300 King Air</td>\n      <td>766</td>\n      <td>100.00%</td>\n      <td>31.289737</td>\n      <td>75.792146</td>\n    </tr>\n    <tr>\n      <th>28</th>\n      <td>9/11/19</td>\n      <td>Toledo, Ohio</td>\n      <td>Convair CV-440F</td>\n      <td>N24DR</td>\n      <td>100.00%</td>\n      <td>41.711599</td>\n      <td>-83.582530</td>\n    </tr>\n    <tr>\n      <th>29</th>\n      <td>10/4/19</td>\n      <td>Lviv, Ukraine</td>\n      <td>Antonov An-12BK</td>\n      <td>UR-CAH</td>\n      <td>62.50%</td>\n      <td>49.845638</td>\n      <td>24.003967</td>\n    </tr>\n    <tr>\n      <th>30</th>\n      <td>11/24/19</td>\n      <td>Goma, Democratic Republic of Congo</td>\n      <td>Dornier 228-201</td>\n      <td>9S-GNH</td>\n      <td>100.00%</td>\n      <td>-1.638860</td>\n      <td>29.214963</td>\n    </tr>\n    <tr>\n      <th>31</th>\n      <td>12/27/19</td>\n      <td>Almaty, Kazakhstan</td>\n      <td>Fokker 100</td>\n      <td>UP-F100</td>\n      <td>12.24%</td>\n      <td>43.170286</td>\n      <td>76.944036</td>\n    </tr>\n    <tr>\n      <th>32</th>\n      <td>1/2/20</td>\n      <td>Geneina, Sudan</td>\n      <td>Antonov An12-A</td>\n      <td>?</td>\n      <td>100.00%</td>\n      <td>13.458220</td>\n      <td>22.436602</td>\n    </tr>\n    <tr>\n      <th>33</th>\n      <td>1/8/20</td>\n      <td>Near Shahriah, Iran</td>\n      <td>Boeing 737-8KV WL</td>\n      <td>UR-PSR</td>\n      <td>100.00%</td>\n      <td>35.667255</td>\n      <td>51.026033</td>\n    </tr>\n    <tr>\n      <th>34</th>\n      <td>2/5/20</td>\n      <td>Istanbul, Turkey</td>\n      <td>Boeing 737-86J</td>\n      <td>TC-IZK</td>\n      <td>1.69%</td>\n      <td>41.124172</td>\n      <td>28.934744</td>\n    </tr>\n    <tr>\n      <th>35</th>\n      <td>3/29/20</td>\n      <td>Manila, Philippines</td>\n      <td>IAI 1124A Westwind II</td>\n      <td>RP-C5880</td>\n      <td>100.00%</td>\n      <td>14.607452</td>\n      <td>120.990715</td>\n    </tr>\n    <tr>\n      <th>36</th>\n      <td>5/22/20</td>\n      <td>Karachi, Pakistan</td>\n      <td>Airbus A320-214</td>\n      <td>AP-BLD</td>\n      <td>97.98%</td>\n      <td>25.089540</td>\n      <td>67.204207</td>\n    </tr>\n    <tr>\n      <th>37</th>\n      <td>8/7/20</td>\n      <td>Calicut, India</td>\n      <td>Boeing 737-8HG</td>\n      <td>VT-AXH</td>\n      <td>10.53%</td>\n      <td>11.349395</td>\n      <td>75.775784</td>\n    </tr>\n    <tr>\n      <th>38</th>\n      <td>8/22/20</td>\n      <td>Juba, South Sudan</td>\n      <td>Antonov 26B</td>\n      <td>EX-126</td>\n      <td>87.50%</td>\n      <td>4.884634</td>\n      <td>31.560020</td>\n    </tr>\n    <tr>\n      <th>39</th>\n      <td>9/25/20</td>\n      <td>Near Chuguev, Ukraine</td>\n      <td>Antonov An26SH</td>\n      <td>76 yellow</td>\n      <td>96.30%</td>\n      <td>49.836374</td>\n      <td>36.675236</td>\n    </tr>\n    <tr>\n      <th>40</th>\n      <td>1/9/21</td>\n      <td>Near Jakarta, Indonesia</td>\n      <td>Boeing 737-524</td>\n      <td>PK-CLC</td>\n      <td>100.00%</td>\n      <td>-6.229673</td>\n      <td>106.833591</td>\n    </tr>\n    <tr>\n      <th>41</th>\n      <td>3/2/21</td>\n      <td>Pieri, Sudan</td>\n      <td>Let L-410UVP-E</td>\n      <td>HK-4274</td>\n      <td>100.00%</td>\n      <td>8.032312</td>\n      <td>32.035392</td>\n    </tr>\n    <tr>\n      <th>42</th>\n      <td>3/28/21</td>\n      <td>Near Butte, Alaska</td>\n      <td>Eurocopter AS350B3 Ecureuil</td>\n      <td>N351SH</td>\n      <td>83.33%</td>\n      <td>61.574218</td>\n      <td>-148.980719</td>\n    </tr>\n    <tr>\n      <th>43</th>\n      <td>5/21/21</td>\n      <td>Near Kaduna, Nigeria</td>\n      <td>Beechcraft B300 King Air 350i</td>\n      <td>NAF203</td>\n      <td>100.00%</td>\n      <td>10.507353</td>\n      <td>7.441815</td>\n    </tr>\n    <tr>\n      <th>44</th>\n      <td>6/10/21</td>\n      <td>Near Pyin Oo Lwin, Myanmar</td>\n      <td>Beechcraft 1900D</td>\n      <td>4610</td>\n      <td>85.71%</td>\n      <td>22.017967</td>\n      <td>96.456835</td>\n    </tr>\n    <tr>\n      <th>45</th>\n      <td>7/4/21</td>\n      <td>Patikul, Sulu, Philippines</td>\n      <td>Lockheed C-130H Hercules</td>\n      <td>5125</td>\n      <td>52.08%</td>\n      <td>6.044126</td>\n      <td>121.086192</td>\n    </tr>\n    <tr>\n      <th>46</th>\n      <td>7/6/21</td>\n      <td>Palana, Russia</td>\n      <td>Antonov An 26B-100</td>\n      <td>RA-26085</td>\n      <td>100.00%</td>\n      <td>59.081204</td>\n      <td>159.948205</td>\n    </tr>\n    <tr>\n      <th>47</th>\n      <td>9/12/21</td>\n      <td>Kazachinskoye , Russia</td>\n      <td>Let L-410UVP-E20</td>\n      <td>RA-67042</td>\n      <td>25.00%</td>\n      <td>56.293947</td>\n      <td>107.384706</td>\n    </tr>\n    <tr>\n      <th>48</th>\n      <td>12/27/21</td>\n      <td>El Cajon, California</td>\n      <td>Learjet 35A</td>\n      <td>N880Z</td>\n      <td>100.00%</td>\n      <td>32.821728</td>\n      <td>-116.984125</td>\n    </tr>\n  </tbody>\n</table>\n</div>"
     },
     "metadata": {}
    }
   ],
   "execution_count": null
  },
  {
   "cell_type": "markdown",
   "source": "Above is the `accident_df` dataset, containing the location, date, aircraft model registration, and a percentage of passengers that died in the accident. All were derived from a list of recorded aircraft accidents.\n\nNow we must show the dataset containing the aircraft manufacturer, its total fatalities over the past 30 years, and what percentage of the total does each have.",
   "metadata": {
    "cell_id": "a74755563fd3478abc93e883682eabb4",
    "tags": [],
    "deepnote_cell_type": "markdown",
    "deepnote_cell_height": 155.984375
   }
  },
  {
   "cell_type": "code",
   "metadata": {
    "cell_id": "ed948dbb944640c494ed8da17a1f9559",
    "tags": [],
    "deepnote_to_be_reexecuted": true,
    "source_hash": "b14ddbe7",
    "execution_start": 1651158413868,
    "execution_millis": 34,
    "deepnote_table_state": {
     "pageSize": 10,
     "pageIndex": 2,
     "filters": [],
     "sortBy": []
    },
    "deepnote_table_loading": false,
    "deepnote_cell_type": "code",
    "deepnote_cell_height": 436
   },
   "source": "aircraft_manu",
   "outputs": [
    {
     "output_type": "execute_result",
     "execution_count": 3,
     "data": {
      "application/vnd.deepnote.dataframe.v3+json": {
       "column_count": 3,
       "row_count": 26,
       "columns": [
        {
         "name": "Make",
         "dtype": "object",
         "stats": {
          "unique_count": 26,
          "nan_count": 0,
          "categories": [
           {
            "name": "Cessna",
            "count": 1
           },
           {
            "name": "Boeing",
            "count": 1
           },
           {
            "name": "24 others",
            "count": 24
           }
          ]
         }
        },
        {
         "name": "Total Fatalities",
         "dtype": "int64",
         "stats": {
          "unique_count": 26,
          "nan_count": 0,
          "min": "178",
          "max": "38766",
          "histogram": [
           {
            "bin_start": 178,
            "bin_end": 4036.8,
            "count": 22
           },
           {
            "bin_start": 4036.8,
            "bin_end": 7895.6,
            "count": 1
           },
           {
            "bin_start": 7895.6,
            "bin_end": 11754.400000000001,
            "count": 2
           },
           {
            "bin_start": 11754.400000000001,
            "bin_end": 15613.2,
            "count": 0
           },
           {
            "bin_start": 15613.2,
            "bin_end": 19472,
            "count": 0
           },
           {
            "bin_start": 19472,
            "bin_end": 23330.800000000003,
            "count": 0
           },
           {
            "bin_start": 23330.800000000003,
            "bin_end": 27189.600000000002,
            "count": 0
           },
           {
            "bin_start": 27189.600000000002,
            "bin_end": 31048.4,
            "count": 0
           },
           {
            "bin_start": 31048.4,
            "bin_end": 34907.200000000004,
            "count": 0
           },
           {
            "bin_start": 34907.200000000004,
            "bin_end": 38766,
            "count": 1
           }
          ]
         }
        },
        {
         "name": "Percentage",
         "dtype": "object",
         "stats": {
          "unique_count": 25,
          "nan_count": 0,
          "categories": [
           {
            "name": "0.63%",
            "count": 2
           },
           {
            "name": "23.77%",
            "count": 1
           },
           {
            "name": "23 others",
            "count": 23
           }
          ]
         }
        },
        {
         "name": "_deepnote_index_column",
         "dtype": "int64"
        }
       ],
       "rows": [
        {
         "Make": "Hughes",
         "Total Fatalities": 201,
         "Percentage": "0.52%",
         "_deepnote_index_column": 20
        },
        {
         "Make": "Rockwell",
         "Total Fatalities": 193,
         "Percentage": "0.50%",
         "_deepnote_index_column": 21
        },
        {
         "Make": "Atr",
         "Total Fatalities": 185,
         "Percentage": "0.48%",
         "_deepnote_index_column": 22
        },
        {
         "Make": "North American",
         "Total Fatalities": 182,
         "Percentage": "0.47%",
         "_deepnote_index_column": 23
        },
        {
         "Make": "Eurocopter",
         "Total Fatalities": 178,
         "Percentage": "0.46%",
         "_deepnote_index_column": 24
        },
        {
         "Make": "Total",
         "Total Fatalities": 38766,
         "Percentage": "100.00%",
         "_deepnote_index_column": 25
        }
       ]
      },
      "text/plain": "                 Make  Total Fatalities Percentage\n0              Cessna              9216     23.77%\n1              Boeing              8203     21.16%\n2               Piper              6422     16.57%\n3               Beech              3618      9.33%\n4              Airbus              2397      6.18%\n5   Mcdonnell Douglas              1322      3.41%\n6                Bell              1235      3.19%\n7             Douglas               981      2.53%\n8              Mooney               649      1.67%\n9            Robinson               544      1.40%\n10            Tupolev               509      1.31%\n11            Embraer               439      1.13%\n12           Bellanca               347      0.90%\n13       Aerospatiale               346      0.89%\n14       De Havilland               337      0.87%\n15           Lockheed               323      0.83%\n16  British Aerospace               244      0.63%\n17     Aero Commander               243      0.63%\n18            Grumman               235      0.61%\n19             Fokker               217      0.56%\n20             Hughes               201      0.52%\n21           Rockwell               193      0.50%\n22                Atr               185      0.48%\n23     North American               182      0.47%\n24         Eurocopter               178      0.46%\n25              Total             38766    100.00%",
      "text/html": "<div>\n<style scoped>\n    .dataframe tbody tr th:only-of-type {\n        vertical-align: middle;\n    }\n\n    .dataframe tbody tr th {\n        vertical-align: top;\n    }\n\n    .dataframe thead th {\n        text-align: right;\n    }\n</style>\n<table border=\"1\" class=\"dataframe\">\n  <thead>\n    <tr style=\"text-align: right;\">\n      <th></th>\n      <th>Make</th>\n      <th>Total Fatalities</th>\n      <th>Percentage</th>\n    </tr>\n  </thead>\n  <tbody>\n    <tr>\n      <th>0</th>\n      <td>Cessna</td>\n      <td>9216</td>\n      <td>23.77%</td>\n    </tr>\n    <tr>\n      <th>1</th>\n      <td>Boeing</td>\n      <td>8203</td>\n      <td>21.16%</td>\n    </tr>\n    <tr>\n      <th>2</th>\n      <td>Piper</td>\n      <td>6422</td>\n      <td>16.57%</td>\n    </tr>\n    <tr>\n      <th>3</th>\n      <td>Beech</td>\n      <td>3618</td>\n      <td>9.33%</td>\n    </tr>\n    <tr>\n      <th>4</th>\n      <td>Airbus</td>\n      <td>2397</td>\n      <td>6.18%</td>\n    </tr>\n    <tr>\n      <th>5</th>\n      <td>Mcdonnell Douglas</td>\n      <td>1322</td>\n      <td>3.41%</td>\n    </tr>\n    <tr>\n      <th>6</th>\n      <td>Bell</td>\n      <td>1235</td>\n      <td>3.19%</td>\n    </tr>\n    <tr>\n      <th>7</th>\n      <td>Douglas</td>\n      <td>981</td>\n      <td>2.53%</td>\n    </tr>\n    <tr>\n      <th>8</th>\n      <td>Mooney</td>\n      <td>649</td>\n      <td>1.67%</td>\n    </tr>\n    <tr>\n      <th>9</th>\n      <td>Robinson</td>\n      <td>544</td>\n      <td>1.40%</td>\n    </tr>\n    <tr>\n      <th>10</th>\n      <td>Tupolev</td>\n      <td>509</td>\n      <td>1.31%</td>\n    </tr>\n    <tr>\n      <th>11</th>\n      <td>Embraer</td>\n      <td>439</td>\n      <td>1.13%</td>\n    </tr>\n    <tr>\n      <th>12</th>\n      <td>Bellanca</td>\n      <td>347</td>\n      <td>0.90%</td>\n    </tr>\n    <tr>\n      <th>13</th>\n      <td>Aerospatiale</td>\n      <td>346</td>\n      <td>0.89%</td>\n    </tr>\n    <tr>\n      <th>14</th>\n      <td>De Havilland</td>\n      <td>337</td>\n      <td>0.87%</td>\n    </tr>\n    <tr>\n      <th>15</th>\n      <td>Lockheed</td>\n      <td>323</td>\n      <td>0.83%</td>\n    </tr>\n    <tr>\n      <th>16</th>\n      <td>British Aerospace</td>\n      <td>244</td>\n      <td>0.63%</td>\n    </tr>\n    <tr>\n      <th>17</th>\n      <td>Aero Commander</td>\n      <td>243</td>\n      <td>0.63%</td>\n    </tr>\n    <tr>\n      <th>18</th>\n      <td>Grumman</td>\n      <td>235</td>\n      <td>0.61%</td>\n    </tr>\n    <tr>\n      <th>19</th>\n      <td>Fokker</td>\n      <td>217</td>\n      <td>0.56%</td>\n    </tr>\n    <tr>\n      <th>20</th>\n      <td>Hughes</td>\n      <td>201</td>\n      <td>0.52%</td>\n    </tr>\n    <tr>\n      <th>21</th>\n      <td>Rockwell</td>\n      <td>193</td>\n      <td>0.50%</td>\n    </tr>\n    <tr>\n      <th>22</th>\n      <td>Atr</td>\n      <td>185</td>\n      <td>0.48%</td>\n    </tr>\n    <tr>\n      <th>23</th>\n      <td>North American</td>\n      <td>182</td>\n      <td>0.47%</td>\n    </tr>\n    <tr>\n      <th>24</th>\n      <td>Eurocopter</td>\n      <td>178</td>\n      <td>0.46%</td>\n    </tr>\n    <tr>\n      <th>25</th>\n      <td>Total</td>\n      <td>38766</td>\n      <td>100.00%</td>\n    </tr>\n  </tbody>\n</table>\n</div>"
     },
     "metadata": {}
    }
   ],
   "execution_count": null
  },
  {
   "cell_type": "markdown",
   "source": "Above is the `aircraft_manu` dataset. It contains the manufacturers, their total fatalities, and percentages. \n\nNow we need to set up the two datasets to merge the data together. However, the two datasets do not have a unique ID to link them together. Therefore, we would have to manipulate the data to link them.",
   "metadata": {
    "cell_id": "1b4b23488688483cad47251c598f80d1",
    "tags": [],
    "deepnote_cell_type": "markdown",
    "deepnote_cell_height": 155.984375
   }
  },
  {
   "cell_type": "code",
   "metadata": {
    "cell_id": "1153f75076ba4f418295ad314a04d848",
    "tags": [],
    "deepnote_to_be_reexecuted": true,
    "source_hash": "22ee7ce7",
    "execution_start": 1651158413902,
    "execution_millis": 47,
    "deepnote_table_state": {
     "pageSize": 10,
     "pageIndex": 4,
     "filters": [],
     "sortBy": []
    },
    "deepnote_table_loading": false,
    "deepnote_cell_type": "code",
    "deepnote_cell_height": 610
   },
   "source": "accidents_df[['ManuF', 'Registration']] = accidents_df['Model'].str.split(' ',n=1,expand=True)\naccidents_df.ManuF=accidents_df.ManuF.str.lower()\naccidents_df",
   "outputs": [
    {
     "output_type": "execute_result",
     "execution_count": 4,
     "data": {
      "application/vnd.deepnote.dataframe.v3+json": {
       "column_count": 8,
       "row_count": 49,
       "columns": [
        {
         "name": "Date",
         "dtype": "object",
         "stats": {
          "unique_count": 47,
          "nan_count": 0,
          "categories": [
           {
            "name": "3/11/18",
            "count": 2
           },
           {
            "name": "5/5/19",
            "count": 2
           },
           {
            "name": "45 others",
            "count": 45
           }
          ]
         }
        },
        {
         "name": "Location",
         "dtype": "object",
         "stats": {
          "unique_count": 49,
          "nan_count": 0,
          "categories": [
           {
            "name": "Zhengchang, Suiyang County, Guizhou Province",
            "count": 1
           },
           {
            "name": "Grand Canyon, Arizona",
            "count": 1
           },
           {
            "name": "47 others",
            "count": 47
           }
          ]
         }
        },
        {
         "name": "Model",
         "dtype": "object",
         "stats": {
          "unique_count": 49,
          "nan_count": 0,
          "categories": [
           {
            "name": "Shaanxi Y-8GX-3",
            "count": 1
           },
           {
            "name": "Eurocopter EC 130B4",
            "count": 1
           },
           {
            "name": "47 others",
            "count": 47
           }
          ]
         }
        },
        {
         "name": "Registration",
         "dtype": "object",
         "stats": {
          "unique_count": 49,
          "nan_count": 0,
          "categories": [
           {
            "name": "Y-8GX-3",
            "count": 1
           },
           {
            "name": "EC 130B4",
            "count": 1
           },
           {
            "name": "47 others",
            "count": 47
           }
          ]
         }
        },
        {
         "name": "Fatalities",
         "dtype": "object",
         "stats": {
          "unique_count": 20,
          "nan_count": 0,
          "categories": [
           {
            "name": "100.00%",
            "count": 29
           },
           {
            "name": "83.33%",
            "count": 2
           },
           {
            "name": "18 others",
            "count": 18
           }
          ]
         }
        },
        {
         "name": "lat",
         "dtype": "float64",
         "stats": {
          "unique_count": 49,
          "nan_count": 0,
          "min": "-41.47524935",
          "max": "61.57421792",
          "histogram": [
           {
            "bin_start": -41.47524935,
            "bin_end": -31.170302622999998,
            "count": 1
           },
           {
            "bin_start": -31.170302622999998,
            "bin_end": -20.865355895999997,
            "count": 1
           },
           {
            "bin_start": -20.865355895999997,
            "bin_end": -10.560409168999996,
            "count": 0
           },
           {
            "bin_start": -10.560409168999996,
            "bin_end": -0.25546244199999535,
            "count": 4
           },
           {
            "bin_start": -0.25546244199999535,
            "bin_end": 10.049484285000005,
            "count": 7
           },
           {
            "bin_start": 10.049484285000005,
            "bin_end": 20.354431012000006,
            "count": 4
           },
           {
            "bin_start": 20.354431012000006,
            "bin_end": 30.659377739000007,
            "count": 8
           },
           {
            "bin_start": 30.659377739000007,
            "bin_end": 40.96432446600001,
            "count": 13
           },
           {
            "bin_start": 40.96432446600001,
            "bin_end": 51.26927119300001,
            "count": 6
           },
           {
            "bin_start": 51.26927119300001,
            "bin_end": 61.57421792,
            "count": 5
           }
          ]
         }
        },
        {
         "name": "lon",
         "dtype": "float64",
         "stats": {
          "unique_count": 49,
          "nan_count": 0,
          "min": "-148.9807188",
          "max": "159.9482053",
          "histogram": [
           {
            "bin_start": -148.9807188,
            "bin_end": -118.08782639,
            "count": 1
           },
           {
            "bin_start": -118.08782639,
            "bin_end": -87.19493398,
            "count": 4
           },
           {
            "bin_start": -87.19493398,
            "bin_end": -56.30204157,
            "count": 8
           },
           {
            "bin_start": -56.30204157,
            "bin_end": -25.40914916,
            "count": 0
           },
           {
            "bin_start": -25.40914916,
            "bin_end": 5.483743250000003,
            "count": 1
           },
           {
            "bin_start": 5.483743250000003,
            "bin_end": 36.376635660000005,
            "count": 11
           },
           {
            "bin_start": 36.376635660000005,
            "bin_end": 67.26952807,
            "count": 10
           },
           {
            "bin_start": 67.26952807,
            "bin_end": 98.16242048000001,
            "count": 6
           },
           {
            "bin_start": 98.16242048000001,
            "bin_end": 129.05531289,
            "count": 6
           },
           {
            "bin_start": 129.05531289,
            "bin_end": 159.9482053,
            "count": 2
           }
          ]
         }
        },
        {
         "name": "ManuF",
         "dtype": "object",
         "stats": {
          "unique_count": 22,
          "nan_count": 0,
          "categories": [
           {
            "name": "boeing",
            "count": 12
           },
           {
            "name": "antonov",
            "count": 8
           },
           {
            "name": "20 others",
            "count": 29
           }
          ]
         }
        },
        {
         "name": "_deepnote_index_column",
         "dtype": "int64"
        }
       ],
       "rows": [
        {
         "Date": "1/9/21",
         "Location": "Near Jakarta, Indonesia",
         "Model": "Boeing 737-524",
         "Registration": "737-524",
         "Fatalities": "100.00%",
         "lat": -6.229672953,
         "lon": 106.8335914,
         "ManuF": "boeing",
         "_deepnote_index_column": 40
        },
        {
         "Date": "3/2/21",
         "Location": "Pieri, Sudan",
         "Model": "Let L-410UVP-E",
         "Registration": "L-410UVP-E",
         "Fatalities": "100.00%",
         "lat": 8.032311514,
         "lon": 32.03539223,
         "ManuF": "let",
         "_deepnote_index_column": 41
        },
        {
         "Date": "3/28/21",
         "Location": "Near Butte, Alaska",
         "Model": "Eurocopter AS350B3 Ecureuil",
         "Registration": "AS350B3 Ecureuil",
         "Fatalities": "83.33%",
         "lat": 61.57421792,
         "lon": -148.9807188,
         "ManuF": "eurocopter",
         "_deepnote_index_column": 42
        },
        {
         "Date": "5/21/21",
         "Location": "Near Kaduna, Nigeria",
         "Model": "Beechcraft B300 King Air 350i",
         "Registration": "B300 King Air 350i",
         "Fatalities": "100.00%",
         "lat": 10.50735284,
         "lon": 7.441814668,
         "ManuF": "beechcraft",
         "_deepnote_index_column": 43
        },
        {
         "Date": "6/10/21",
         "Location": "Near Pyin Oo Lwin, Myanmar",
         "Model": "Beechcraft 1900D",
         "Registration": "1900D",
         "Fatalities": "85.71%",
         "lat": 22.01796703,
         "lon": 96.45683466,
         "ManuF": "beechcraft",
         "_deepnote_index_column": 44
        },
        {
         "Date": "7/4/21",
         "Location": "Patikul, Sulu, Philippines",
         "Model": "Lockheed C-130H Hercules",
         "Registration": "C-130H Hercules",
         "Fatalities": "52.08%",
         "lat": 6.044125935,
         "lon": 121.0861916,
         "ManuF": "lockheed",
         "_deepnote_index_column": 45
        },
        {
         "Date": "7/6/21",
         "Location": "Palana, Russia",
         "Model": "Antonov An 26B-100",
         "Registration": "An 26B-100",
         "Fatalities": "100.00%",
         "lat": 59.08120399,
         "lon": 159.9482053,
         "ManuF": "antonov",
         "_deepnote_index_column": 46
        },
        {
         "Date": "9/12/21",
         "Location": "Kazachinskoye , Russia",
         "Model": "Let L-410UVP-E20",
         "Registration": "L-410UVP-E20",
         "Fatalities": "25.00%",
         "lat": 56.29394673,
         "lon": 107.3847059,
         "ManuF": "let",
         "_deepnote_index_column": 47
        },
        {
         "Date": "12/27/21",
         "Location": "El Cajon, California",
         "Model": "Learjet 35A",
         "Registration": "35A",
         "Fatalities": "100.00%",
         "lat": 32.82172838,
         "lon": -116.9841252,
         "ManuF": "learjet",
         "_deepnote_index_column": 48
        }
       ]
      },
      "text/plain": "        Date                                      Location  \\\n0    1/29/18  Zhengchang, Suiyang County, Guizhou Province   \n1    2/10/18                         Grand Canyon, Arizona   \n2    2/11/18                              Argunovo, Russia   \n3    2/18/18                        Kohangan village, Iran   \n4     3/6/18                                Latakia, Syria   \n5    3/11/18                            New York, New York   \n6    3/11/18              81 miles SW of Shahre Kurd, Iran   \n7    3/12/18                              Kathmandu, Nepal   \n8    4/11/18                          Boufarik AB, Algeria   \n9    4/17/18              NW of Philadelphia, Pennsylvania   \n10    5/2/18                       Port Wentworth, Georgia   \n11   5/18/18                                  Havana, Cuba   \n12    6/5/18                           Near Njabini, Kenya   \n13   7/10/18                        Pretoria, South Africa   \n14    8/4/18                            Flims, Switzerland   \n15   9/17/18         Near Latakia-Khmeimim Air Base, Syria   \n16   9/28/18                             Chuuk, Micronesia   \n17  10/29/18                        Off Jakarta, Indonesia   \n18   11/6/18                            Georgetown, Guyana   \n19   1/14/19                                   Karaj, Iran   \n20   2/23/19                                Houston, Texas   \n21    3/9/19                 Vereda La Bendicion, Colombia   \n22   3/10/19                            Bishoftu, Ethiopia   \n23   4/16/19                           Puerto Montt, Chile   \n24    5/5/19                         Near Monclava, Mexico   \n25    5/5/19                                Moscow, Russia   \n26    6/3/19                              Near Lipo, India   \n27   7/30/19                             Rawalpindi, India   \n28   9/11/19                                  Toledo, Ohio   \n29   10/4/19                                 Lviv, Ukraine   \n30  11/24/19            Goma, Democratic Republic of Congo   \n31  12/27/19                            Almaty, Kazakhstan   \n32    1/2/20                                Geneina, Sudan   \n33    1/8/20                           Near Shahriah, Iran   \n34    2/5/20                              Istanbul, Turkey   \n35   3/29/20                           Manila, Philippines   \n36   5/22/20                             Karachi, Pakistan   \n37    8/7/20                                Calicut, India   \n38   8/22/20                             Juba, South Sudan   \n39   9/25/20                         Near Chuguev, Ukraine   \n40    1/9/21                       Near Jakarta, Indonesia   \n41    3/2/21                                  Pieri, Sudan   \n42   3/28/21                            Near Butte, Alaska   \n43   5/21/21                          Near Kaduna, Nigeria   \n44   6/10/21                    Near Pyin Oo Lwin, Myanmar   \n45    7/4/21                    Patikul, Sulu, Philippines   \n46    7/6/21                                Palana, Russia   \n47   9/12/21                        Kazachinskoye , Russia   \n48  12/27/21                          El Cajon, California   \n\n                                       Model  \\\n0                            Shaanxi Y-8GX-3   \n1                        Eurocopter EC 130B4   \n2                         Antonov AN-148-100   \n3                                 ATR 72-212   \n4                              Antonov An-26   \n5                        Eurocopter AS 350B2   \n6        Canadair CL-600-2B16 Challenger 604   \n7      de Havilland Canada DHC-8-402Q Dash 8   \n8                             Ilyushin 76-TD   \n9                             Boeing 737-7H4   \n10                 Lockheed HC-130H Hercules   \n11                            Boeing 737-201   \n12                 Cessna 208B Grand Carivan   \n13                            Convair CV-340   \n14                             Junkers JU-52   \n15                           Ilyushin Il-20M   \n16                            Boeing 737-8BK   \n17                          Boeing 737-MAX 8   \n18                            Boeing 757-N23   \n19                           Boeing 707-3J9C   \n20                          Boeing 767-375ER   \n21                              Douglas DC-3   \n22                          Boeing 737 Max 8   \n23  Pilatus-Britten Norman BN-2B-27 Islander   \n24           Canadair CL-600-2B16-Challenger   \n25                   Sukhoi Superjet-100-95B   \n26                             Antonov An-32   \n27                  Beechcraft B300 King Air   \n28                           Convair CV-440F   \n29                           Antonov An-12BK   \n30                           Dornier 228-201   \n31                                Fokker 100   \n32                            Antonov An12-A   \n33                         Boeing 737-8KV WL   \n34                            Boeing 737-86J   \n35                     IAI 1124A Westwind II   \n36                           Airbus A320-214   \n37                            Boeing 737-8HG   \n38                               Antonov 26B   \n39                            Antonov An26SH   \n40                            Boeing 737-524   \n41                            Let L-410UVP-E   \n42               Eurocopter AS350B3 Ecureuil   \n43             Beechcraft B300 King Air 350i   \n44                          Beechcraft 1900D   \n45                  Lockheed C-130H Hercules   \n46                        Antonov An 26B-100   \n47                          Let L-410UVP-E20   \n48                               Learjet 35A   \n\n                          Registration Fatalities        lat         lon  \\\n0                              Y-8GX-3    100.00%  27.895211  107.252496   \n1                             EC 130B4     42.86%  36.101814 -112.122570   \n2                           AN-148-100    100.00%  59.859084   45.104230   \n3                               72-212    100.00%  30.896112   51.651020   \n4                                An-26    100.00%  35.546818   35.800247   \n5                             AS 350B2     83.33%  40.727368  -73.900166   \n6           CL-600-2B16 Challenger 604    100.00%  32.295591   50.825075   \n7   Havilland Canada DHC-8-402Q Dash 8     71.83%  27.753845   85.307796   \n8                                76-TD    100.00%  36.592172    2.938958   \n9                              737-7H4      0.67%  40.220593  -75.329476   \n10                    HC-130H Hercules    100.00%  32.163442  -81.178873   \n11                             737-201    100.00%  23.087608  -82.335922   \n12                  208B Grand Carivan    100.00%  -0.721656   36.649672   \n13                              CV-340      5.26% -25.643738   28.222501   \n14                               JU-52    100.00%  46.858667    9.285954   \n15                              Il-20M    100.00%  35.417135   35.946187   \n16                             737-8BK      2.13%   5.491396  153.543239   \n17                           737-MAX 8    100.00%  -6.058998  106.701756   \n18                             757-N23      0.78%   6.801942  -58.156686   \n19                            707-3J9C     93.75%  35.886360   51.002232   \n20                           767-375ER    100.00%  29.917269  -95.242642   \n21                                DC-3    100.00%   7.647442  -76.720762   \n22                           737 Max 8    100.00%   8.758863   39.008498   \n23            Norman BN-2B-27 Islander    100.00% -41.475249  -72.967939   \n24              CL-600-2B16-Challenger    100.00%  26.878941 -101.361492   \n25                    Superjet-100-95B     52.56%  55.926269   37.615897   \n26                               An-32    100.00%  28.506433   94.461124   \n27                       B300 King Air    100.00%  31.289737   75.792146   \n28                             CV-440F    100.00%  41.711599  -83.582530   \n29                             An-12BK     62.50%  49.845638   24.003967   \n30                             228-201    100.00%  -1.638860   29.214963   \n31                                 100     12.24%  43.170286   76.944036   \n32                              An12-A    100.00%  13.458220   22.436602   \n33                          737-8KV WL    100.00%  35.667255   51.026033   \n34                             737-86J      1.69%  41.124172   28.934744   \n35                   1124A Westwind II    100.00%  14.607452  120.990715   \n36                            A320-214     97.98%  25.089540   67.204207   \n37                             737-8HG     10.53%  11.349395   75.775784   \n38                                 26B     87.50%   4.884634   31.560020   \n39                              An26SH     96.30%  49.836374   36.675236   \n40                             737-524    100.00%  -6.229673  106.833591   \n41                          L-410UVP-E    100.00%   8.032312   32.035392   \n42                    AS350B3 Ecureuil     83.33%  61.574218 -148.980719   \n43                  B300 King Air 350i    100.00%  10.507353    7.441815   \n44                               1900D     85.71%  22.017967   96.456835   \n45                     C-130H Hercules     52.08%   6.044126  121.086192   \n46                          An 26B-100    100.00%  59.081204  159.948205   \n47                        L-410UVP-E20     25.00%  56.293947  107.384706   \n48                                 35A    100.00%  32.821728 -116.984125   \n\n              ManuF  \n0           shaanxi  \n1        eurocopter  \n2           antonov  \n3               atr  \n4           antonov  \n5        eurocopter  \n6          canadair  \n7                de  \n8          ilyushin  \n9            boeing  \n10         lockheed  \n11           boeing  \n12           cessna  \n13          convair  \n14          junkers  \n15         ilyushin  \n16           boeing  \n17           boeing  \n18           boeing  \n19           boeing  \n20           boeing  \n21          douglas  \n22           boeing  \n23  pilatus-britten  \n24         canadair  \n25           sukhoi  \n26          antonov  \n27       beechcraft  \n28          convair  \n29          antonov  \n30          dornier  \n31           fokker  \n32          antonov  \n33           boeing  \n34           boeing  \n35              iai  \n36           airbus  \n37           boeing  \n38          antonov  \n39          antonov  \n40           boeing  \n41              let  \n42       eurocopter  \n43       beechcraft  \n44       beechcraft  \n45         lockheed  \n46          antonov  \n47              let  \n48          learjet  ",
      "text/html": "<div>\n<style scoped>\n    .dataframe tbody tr th:only-of-type {\n        vertical-align: middle;\n    }\n\n    .dataframe tbody tr th {\n        vertical-align: top;\n    }\n\n    .dataframe thead th {\n        text-align: right;\n    }\n</style>\n<table border=\"1\" class=\"dataframe\">\n  <thead>\n    <tr style=\"text-align: right;\">\n      <th></th>\n      <th>Date</th>\n      <th>Location</th>\n      <th>Model</th>\n      <th>Registration</th>\n      <th>Fatalities</th>\n      <th>lat</th>\n      <th>lon</th>\n      <th>ManuF</th>\n    </tr>\n  </thead>\n  <tbody>\n    <tr>\n      <th>0</th>\n      <td>1/29/18</td>\n      <td>Zhengchang, Suiyang County, Guizhou Province</td>\n      <td>Shaanxi Y-8GX-3</td>\n      <td>Y-8GX-3</td>\n      <td>100.00%</td>\n      <td>27.895211</td>\n      <td>107.252496</td>\n      <td>shaanxi</td>\n    </tr>\n    <tr>\n      <th>1</th>\n      <td>2/10/18</td>\n      <td>Grand Canyon, Arizona</td>\n      <td>Eurocopter EC 130B4</td>\n      <td>EC 130B4</td>\n      <td>42.86%</td>\n      <td>36.101814</td>\n      <td>-112.122570</td>\n      <td>eurocopter</td>\n    </tr>\n    <tr>\n      <th>2</th>\n      <td>2/11/18</td>\n      <td>Argunovo, Russia</td>\n      <td>Antonov AN-148-100</td>\n      <td>AN-148-100</td>\n      <td>100.00%</td>\n      <td>59.859084</td>\n      <td>45.104230</td>\n      <td>antonov</td>\n    </tr>\n    <tr>\n      <th>3</th>\n      <td>2/18/18</td>\n      <td>Kohangan village, Iran</td>\n      <td>ATR 72-212</td>\n      <td>72-212</td>\n      <td>100.00%</td>\n      <td>30.896112</td>\n      <td>51.651020</td>\n      <td>atr</td>\n    </tr>\n    <tr>\n      <th>4</th>\n      <td>3/6/18</td>\n      <td>Latakia, Syria</td>\n      <td>Antonov An-26</td>\n      <td>An-26</td>\n      <td>100.00%</td>\n      <td>35.546818</td>\n      <td>35.800247</td>\n      <td>antonov</td>\n    </tr>\n    <tr>\n      <th>5</th>\n      <td>3/11/18</td>\n      <td>New York, New York</td>\n      <td>Eurocopter AS 350B2</td>\n      <td>AS 350B2</td>\n      <td>83.33%</td>\n      <td>40.727368</td>\n      <td>-73.900166</td>\n      <td>eurocopter</td>\n    </tr>\n    <tr>\n      <th>6</th>\n      <td>3/11/18</td>\n      <td>81 miles SW of Shahre Kurd, Iran</td>\n      <td>Canadair CL-600-2B16 Challenger 604</td>\n      <td>CL-600-2B16 Challenger 604</td>\n      <td>100.00%</td>\n      <td>32.295591</td>\n      <td>50.825075</td>\n      <td>canadair</td>\n    </tr>\n    <tr>\n      <th>7</th>\n      <td>3/12/18</td>\n      <td>Kathmandu, Nepal</td>\n      <td>de Havilland Canada DHC-8-402Q Dash 8</td>\n      <td>Havilland Canada DHC-8-402Q Dash 8</td>\n      <td>71.83%</td>\n      <td>27.753845</td>\n      <td>85.307796</td>\n      <td>de</td>\n    </tr>\n    <tr>\n      <th>8</th>\n      <td>4/11/18</td>\n      <td>Boufarik AB, Algeria</td>\n      <td>Ilyushin 76-TD</td>\n      <td>76-TD</td>\n      <td>100.00%</td>\n      <td>36.592172</td>\n      <td>2.938958</td>\n      <td>ilyushin</td>\n    </tr>\n    <tr>\n      <th>9</th>\n      <td>4/17/18</td>\n      <td>NW of Philadelphia, Pennsylvania</td>\n      <td>Boeing 737-7H4</td>\n      <td>737-7H4</td>\n      <td>0.67%</td>\n      <td>40.220593</td>\n      <td>-75.329476</td>\n      <td>boeing</td>\n    </tr>\n    <tr>\n      <th>10</th>\n      <td>5/2/18</td>\n      <td>Port Wentworth, Georgia</td>\n      <td>Lockheed HC-130H Hercules</td>\n      <td>HC-130H Hercules</td>\n      <td>100.00%</td>\n      <td>32.163442</td>\n      <td>-81.178873</td>\n      <td>lockheed</td>\n    </tr>\n    <tr>\n      <th>11</th>\n      <td>5/18/18</td>\n      <td>Havana, Cuba</td>\n      <td>Boeing 737-201</td>\n      <td>737-201</td>\n      <td>100.00%</td>\n      <td>23.087608</td>\n      <td>-82.335922</td>\n      <td>boeing</td>\n    </tr>\n    <tr>\n      <th>12</th>\n      <td>6/5/18</td>\n      <td>Near Njabini, Kenya</td>\n      <td>Cessna 208B Grand Carivan</td>\n      <td>208B Grand Carivan</td>\n      <td>100.00%</td>\n      <td>-0.721656</td>\n      <td>36.649672</td>\n      <td>cessna</td>\n    </tr>\n    <tr>\n      <th>13</th>\n      <td>7/10/18</td>\n      <td>Pretoria, South Africa</td>\n      <td>Convair CV-340</td>\n      <td>CV-340</td>\n      <td>5.26%</td>\n      <td>-25.643738</td>\n      <td>28.222501</td>\n      <td>convair</td>\n    </tr>\n    <tr>\n      <th>14</th>\n      <td>8/4/18</td>\n      <td>Flims, Switzerland</td>\n      <td>Junkers JU-52</td>\n      <td>JU-52</td>\n      <td>100.00%</td>\n      <td>46.858667</td>\n      <td>9.285954</td>\n      <td>junkers</td>\n    </tr>\n    <tr>\n      <th>15</th>\n      <td>9/17/18</td>\n      <td>Near Latakia-Khmeimim Air Base, Syria</td>\n      <td>Ilyushin Il-20M</td>\n      <td>Il-20M</td>\n      <td>100.00%</td>\n      <td>35.417135</td>\n      <td>35.946187</td>\n      <td>ilyushin</td>\n    </tr>\n    <tr>\n      <th>16</th>\n      <td>9/28/18</td>\n      <td>Chuuk, Micronesia</td>\n      <td>Boeing 737-8BK</td>\n      <td>737-8BK</td>\n      <td>2.13%</td>\n      <td>5.491396</td>\n      <td>153.543239</td>\n      <td>boeing</td>\n    </tr>\n    <tr>\n      <th>17</th>\n      <td>10/29/18</td>\n      <td>Off Jakarta, Indonesia</td>\n      <td>Boeing 737-MAX 8</td>\n      <td>737-MAX 8</td>\n      <td>100.00%</td>\n      <td>-6.058998</td>\n      <td>106.701756</td>\n      <td>boeing</td>\n    </tr>\n    <tr>\n      <th>18</th>\n      <td>11/6/18</td>\n      <td>Georgetown, Guyana</td>\n      <td>Boeing 757-N23</td>\n      <td>757-N23</td>\n      <td>0.78%</td>\n      <td>6.801942</td>\n      <td>-58.156686</td>\n      <td>boeing</td>\n    </tr>\n    <tr>\n      <th>19</th>\n      <td>1/14/19</td>\n      <td>Karaj, Iran</td>\n      <td>Boeing 707-3J9C</td>\n      <td>707-3J9C</td>\n      <td>93.75%</td>\n      <td>35.886360</td>\n      <td>51.002232</td>\n      <td>boeing</td>\n    </tr>\n    <tr>\n      <th>20</th>\n      <td>2/23/19</td>\n      <td>Houston, Texas</td>\n      <td>Boeing 767-375ER</td>\n      <td>767-375ER</td>\n      <td>100.00%</td>\n      <td>29.917269</td>\n      <td>-95.242642</td>\n      <td>boeing</td>\n    </tr>\n    <tr>\n      <th>21</th>\n      <td>3/9/19</td>\n      <td>Vereda La Bendicion, Colombia</td>\n      <td>Douglas DC-3</td>\n      <td>DC-3</td>\n      <td>100.00%</td>\n      <td>7.647442</td>\n      <td>-76.720762</td>\n      <td>douglas</td>\n    </tr>\n    <tr>\n      <th>22</th>\n      <td>3/10/19</td>\n      <td>Bishoftu, Ethiopia</td>\n      <td>Boeing 737 Max 8</td>\n      <td>737 Max 8</td>\n      <td>100.00%</td>\n      <td>8.758863</td>\n      <td>39.008498</td>\n      <td>boeing</td>\n    </tr>\n    <tr>\n      <th>23</th>\n      <td>4/16/19</td>\n      <td>Puerto Montt, Chile</td>\n      <td>Pilatus-Britten Norman BN-2B-27 Islander</td>\n      <td>Norman BN-2B-27 Islander</td>\n      <td>100.00%</td>\n      <td>-41.475249</td>\n      <td>-72.967939</td>\n      <td>pilatus-britten</td>\n    </tr>\n    <tr>\n      <th>24</th>\n      <td>5/5/19</td>\n      <td>Near Monclava, Mexico</td>\n      <td>Canadair CL-600-2B16-Challenger</td>\n      <td>CL-600-2B16-Challenger</td>\n      <td>100.00%</td>\n      <td>26.878941</td>\n      <td>-101.361492</td>\n      <td>canadair</td>\n    </tr>\n    <tr>\n      <th>25</th>\n      <td>5/5/19</td>\n      <td>Moscow, Russia</td>\n      <td>Sukhoi Superjet-100-95B</td>\n      <td>Superjet-100-95B</td>\n      <td>52.56%</td>\n      <td>55.926269</td>\n      <td>37.615897</td>\n      <td>sukhoi</td>\n    </tr>\n    <tr>\n      <th>26</th>\n      <td>6/3/19</td>\n      <td>Near Lipo, India</td>\n      <td>Antonov An-32</td>\n      <td>An-32</td>\n      <td>100.00%</td>\n      <td>28.506433</td>\n      <td>94.461124</td>\n      <td>antonov</td>\n    </tr>\n    <tr>\n      <th>27</th>\n      <td>7/30/19</td>\n      <td>Rawalpindi, India</td>\n      <td>Beechcraft B300 King Air</td>\n      <td>B300 King Air</td>\n      <td>100.00%</td>\n      <td>31.289737</td>\n      <td>75.792146</td>\n      <td>beechcraft</td>\n    </tr>\n    <tr>\n      <th>28</th>\n      <td>9/11/19</td>\n      <td>Toledo, Ohio</td>\n      <td>Convair CV-440F</td>\n      <td>CV-440F</td>\n      <td>100.00%</td>\n      <td>41.711599</td>\n      <td>-83.582530</td>\n      <td>convair</td>\n    </tr>\n    <tr>\n      <th>29</th>\n      <td>10/4/19</td>\n      <td>Lviv, Ukraine</td>\n      <td>Antonov An-12BK</td>\n      <td>An-12BK</td>\n      <td>62.50%</td>\n      <td>49.845638</td>\n      <td>24.003967</td>\n      <td>antonov</td>\n    </tr>\n    <tr>\n      <th>30</th>\n      <td>11/24/19</td>\n      <td>Goma, Democratic Republic of Congo</td>\n      <td>Dornier 228-201</td>\n      <td>228-201</td>\n      <td>100.00%</td>\n      <td>-1.638860</td>\n      <td>29.214963</td>\n      <td>dornier</td>\n    </tr>\n    <tr>\n      <th>31</th>\n      <td>12/27/19</td>\n      <td>Almaty, Kazakhstan</td>\n      <td>Fokker 100</td>\n      <td>100</td>\n      <td>12.24%</td>\n      <td>43.170286</td>\n      <td>76.944036</td>\n      <td>fokker</td>\n    </tr>\n    <tr>\n      <th>32</th>\n      <td>1/2/20</td>\n      <td>Geneina, Sudan</td>\n      <td>Antonov An12-A</td>\n      <td>An12-A</td>\n      <td>100.00%</td>\n      <td>13.458220</td>\n      <td>22.436602</td>\n      <td>antonov</td>\n    </tr>\n    <tr>\n      <th>33</th>\n      <td>1/8/20</td>\n      <td>Near Shahriah, Iran</td>\n      <td>Boeing 737-8KV WL</td>\n      <td>737-8KV WL</td>\n      <td>100.00%</td>\n      <td>35.667255</td>\n      <td>51.026033</td>\n      <td>boeing</td>\n    </tr>\n    <tr>\n      <th>34</th>\n      <td>2/5/20</td>\n      <td>Istanbul, Turkey</td>\n      <td>Boeing 737-86J</td>\n      <td>737-86J</td>\n      <td>1.69%</td>\n      <td>41.124172</td>\n      <td>28.934744</td>\n      <td>boeing</td>\n    </tr>\n    <tr>\n      <th>35</th>\n      <td>3/29/20</td>\n      <td>Manila, Philippines</td>\n      <td>IAI 1124A Westwind II</td>\n      <td>1124A Westwind II</td>\n      <td>100.00%</td>\n      <td>14.607452</td>\n      <td>120.990715</td>\n      <td>iai</td>\n    </tr>\n    <tr>\n      <th>36</th>\n      <td>5/22/20</td>\n      <td>Karachi, Pakistan</td>\n      <td>Airbus A320-214</td>\n      <td>A320-214</td>\n      <td>97.98%</td>\n      <td>25.089540</td>\n      <td>67.204207</td>\n      <td>airbus</td>\n    </tr>\n    <tr>\n      <th>37</th>\n      <td>8/7/20</td>\n      <td>Calicut, India</td>\n      <td>Boeing 737-8HG</td>\n      <td>737-8HG</td>\n      <td>10.53%</td>\n      <td>11.349395</td>\n      <td>75.775784</td>\n      <td>boeing</td>\n    </tr>\n    <tr>\n      <th>38</th>\n      <td>8/22/20</td>\n      <td>Juba, South Sudan</td>\n      <td>Antonov 26B</td>\n      <td>26B</td>\n      <td>87.50%</td>\n      <td>4.884634</td>\n      <td>31.560020</td>\n      <td>antonov</td>\n    </tr>\n    <tr>\n      <th>39</th>\n      <td>9/25/20</td>\n      <td>Near Chuguev, Ukraine</td>\n      <td>Antonov An26SH</td>\n      <td>An26SH</td>\n      <td>96.30%</td>\n      <td>49.836374</td>\n      <td>36.675236</td>\n      <td>antonov</td>\n    </tr>\n    <tr>\n      <th>40</th>\n      <td>1/9/21</td>\n      <td>Near Jakarta, Indonesia</td>\n      <td>Boeing 737-524</td>\n      <td>737-524</td>\n      <td>100.00%</td>\n      <td>-6.229673</td>\n      <td>106.833591</td>\n      <td>boeing</td>\n    </tr>\n    <tr>\n      <th>41</th>\n      <td>3/2/21</td>\n      <td>Pieri, Sudan</td>\n      <td>Let L-410UVP-E</td>\n      <td>L-410UVP-E</td>\n      <td>100.00%</td>\n      <td>8.032312</td>\n      <td>32.035392</td>\n      <td>let</td>\n    </tr>\n    <tr>\n      <th>42</th>\n      <td>3/28/21</td>\n      <td>Near Butte, Alaska</td>\n      <td>Eurocopter AS350B3 Ecureuil</td>\n      <td>AS350B3 Ecureuil</td>\n      <td>83.33%</td>\n      <td>61.574218</td>\n      <td>-148.980719</td>\n      <td>eurocopter</td>\n    </tr>\n    <tr>\n      <th>43</th>\n      <td>5/21/21</td>\n      <td>Near Kaduna, Nigeria</td>\n      <td>Beechcraft B300 King Air 350i</td>\n      <td>B300 King Air 350i</td>\n      <td>100.00%</td>\n      <td>10.507353</td>\n      <td>7.441815</td>\n      <td>beechcraft</td>\n    </tr>\n    <tr>\n      <th>44</th>\n      <td>6/10/21</td>\n      <td>Near Pyin Oo Lwin, Myanmar</td>\n      <td>Beechcraft 1900D</td>\n      <td>1900D</td>\n      <td>85.71%</td>\n      <td>22.017967</td>\n      <td>96.456835</td>\n      <td>beechcraft</td>\n    </tr>\n    <tr>\n      <th>45</th>\n      <td>7/4/21</td>\n      <td>Patikul, Sulu, Philippines</td>\n      <td>Lockheed C-130H Hercules</td>\n      <td>C-130H Hercules</td>\n      <td>52.08%</td>\n      <td>6.044126</td>\n      <td>121.086192</td>\n      <td>lockheed</td>\n    </tr>\n    <tr>\n      <th>46</th>\n      <td>7/6/21</td>\n      <td>Palana, Russia</td>\n      <td>Antonov An 26B-100</td>\n      <td>An 26B-100</td>\n      <td>100.00%</td>\n      <td>59.081204</td>\n      <td>159.948205</td>\n      <td>antonov</td>\n    </tr>\n    <tr>\n      <th>47</th>\n      <td>9/12/21</td>\n      <td>Kazachinskoye , Russia</td>\n      <td>Let L-410UVP-E20</td>\n      <td>L-410UVP-E20</td>\n      <td>25.00%</td>\n      <td>56.293947</td>\n      <td>107.384706</td>\n      <td>let</td>\n    </tr>\n    <tr>\n      <th>48</th>\n      <td>12/27/21</td>\n      <td>El Cajon, California</td>\n      <td>Learjet 35A</td>\n      <td>35A</td>\n      <td>100.00%</td>\n      <td>32.821728</td>\n      <td>-116.984125</td>\n      <td>learjet</td>\n    </tr>\n  </tbody>\n</table>\n</div>"
     },
     "metadata": {}
    }
   ],
   "execution_count": null
  },
  {
   "cell_type": "markdown",
   "source": "We first changed the `accidents_df` dataset so that we can isolate the manufacturer name from the `Model` column. We also made the manufacturer lower case to match it to the `aircraft_manu` dataset later.",
   "metadata": {
    "cell_id": "f5a5b53d3c70415db1aa312fe22f8715",
    "tags": [],
    "deepnote_cell_type": "markdown",
    "deepnote_cell_height": 97.1875
   }
  },
  {
   "cell_type": "code",
   "metadata": {
    "cell_id": "f4763f81c96f40a08d99b992adfd99cf",
    "tags": [],
    "deepnote_to_be_reexecuted": true,
    "source_hash": "9b08b182",
    "execution_start": 1651158413995,
    "execution_millis": 6,
    "deepnote_table_state": {
     "pageSize": 10,
     "pageIndex": 1,
     "filters": [],
     "sortBy": []
    },
    "deepnote_table_loading": false,
    "deepnote_cell_type": "code",
    "deepnote_cell_height": 651
   },
   "source": "aircraft_manu[['ManuF','ManuL']] = aircraft_manu['Make'].str.split(' ',n=1,expand=True)\naircraft_manu.ManuF= aircraft_manu.ManuF.str.lower()\naircraft_manu",
   "outputs": [
    {
     "output_type": "execute_result",
     "execution_count": 5,
     "data": {
      "application/vnd.deepnote.dataframe.v3+json": {
       "column_count": 5,
       "row_count": 26,
       "columns": [
        {
         "name": "Make",
         "dtype": "object",
         "stats": {
          "unique_count": 26,
          "nan_count": 0,
          "categories": [
           {
            "name": "Cessna",
            "count": 1
           },
           {
            "name": "Boeing",
            "count": 1
           },
           {
            "name": "24 others",
            "count": 24
           }
          ]
         }
        },
        {
         "name": "Total Fatalities",
         "dtype": "int64",
         "stats": {
          "unique_count": 26,
          "nan_count": 0,
          "min": "178",
          "max": "38766",
          "histogram": [
           {
            "bin_start": 178,
            "bin_end": 4036.8,
            "count": 22
           },
           {
            "bin_start": 4036.8,
            "bin_end": 7895.6,
            "count": 1
           },
           {
            "bin_start": 7895.6,
            "bin_end": 11754.400000000001,
            "count": 2
           },
           {
            "bin_start": 11754.400000000001,
            "bin_end": 15613.2,
            "count": 0
           },
           {
            "bin_start": 15613.2,
            "bin_end": 19472,
            "count": 0
           },
           {
            "bin_start": 19472,
            "bin_end": 23330.800000000003,
            "count": 0
           },
           {
            "bin_start": 23330.800000000003,
            "bin_end": 27189.600000000002,
            "count": 0
           },
           {
            "bin_start": 27189.600000000002,
            "bin_end": 31048.4,
            "count": 0
           },
           {
            "bin_start": 31048.4,
            "bin_end": 34907.200000000004,
            "count": 0
           },
           {
            "bin_start": 34907.200000000004,
            "bin_end": 38766,
            "count": 1
           }
          ]
         }
        },
        {
         "name": "Percentage",
         "dtype": "object",
         "stats": {
          "unique_count": 25,
          "nan_count": 0,
          "categories": [
           {
            "name": "0.63%",
            "count": 2
           },
           {
            "name": "23.77%",
            "count": 1
           },
           {
            "name": "23 others",
            "count": 23
           }
          ]
         }
        },
        {
         "name": "ManuF",
         "dtype": "object",
         "stats": {
          "unique_count": 26,
          "nan_count": 0,
          "categories": [
           {
            "name": "cessna",
            "count": 1
           },
           {
            "name": "boeing",
            "count": 1
           },
           {
            "name": "24 others",
            "count": 24
           }
          ]
         }
        },
        {
         "name": "ManuL",
         "dtype": "object",
         "stats": {
          "unique_count": 5,
          "nan_count": 21,
          "categories": [
           {
            "name": "Douglas",
            "count": 1
           },
           {
            "name": "4 others",
            "count": 4
           },
           {
            "name": "Missing",
            "count": 21
           }
          ]
         }
        },
        {
         "name": "_deepnote_index_column",
         "dtype": "int64"
        }
       ],
       "rows": [
        {
         "Make": "Tupolev",
         "Total Fatalities": 509,
         "Percentage": "1.31%",
         "ManuF": "tupolev",
         "ManuL": "None",
         "_deepnote_index_column": 10
        },
        {
         "Make": "Embraer",
         "Total Fatalities": 439,
         "Percentage": "1.13%",
         "ManuF": "embraer",
         "ManuL": "None",
         "_deepnote_index_column": 11
        },
        {
         "Make": "Bellanca",
         "Total Fatalities": 347,
         "Percentage": "0.90%",
         "ManuF": "bellanca",
         "ManuL": "None",
         "_deepnote_index_column": 12
        },
        {
         "Make": "Aerospatiale",
         "Total Fatalities": 346,
         "Percentage": "0.89%",
         "ManuF": "aerospatiale",
         "ManuL": "None",
         "_deepnote_index_column": 13
        },
        {
         "Make": "De Havilland",
         "Total Fatalities": 337,
         "Percentage": "0.87%",
         "ManuF": "de",
         "ManuL": "Havilland",
         "_deepnote_index_column": 14
        },
        {
         "Make": "Lockheed",
         "Total Fatalities": 323,
         "Percentage": "0.83%",
         "ManuF": "lockheed",
         "ManuL": "None",
         "_deepnote_index_column": 15
        },
        {
         "Make": "British Aerospace",
         "Total Fatalities": 244,
         "Percentage": "0.63%",
         "ManuF": "british",
         "ManuL": "Aerospace",
         "_deepnote_index_column": 16
        },
        {
         "Make": "Aero Commander",
         "Total Fatalities": 243,
         "Percentage": "0.63%",
         "ManuF": "aero",
         "ManuL": "Commander",
         "_deepnote_index_column": 17
        },
        {
         "Make": "Grumman",
         "Total Fatalities": 235,
         "Percentage": "0.61%",
         "ManuF": "grumman",
         "ManuL": "None",
         "_deepnote_index_column": 18
        },
        {
         "Make": "Fokker",
         "Total Fatalities": 217,
         "Percentage": "0.56%",
         "ManuF": "fokker",
         "ManuL": "None",
         "_deepnote_index_column": 19
        }
       ]
      },
      "text/plain": "                 Make  Total Fatalities Percentage         ManuF      ManuL\n0              Cessna              9216     23.77%        cessna       None\n1              Boeing              8203     21.16%        boeing       None\n2               Piper              6422     16.57%         piper       None\n3               Beech              3618      9.33%         beech       None\n4              Airbus              2397      6.18%        airbus       None\n5   Mcdonnell Douglas              1322      3.41%     mcdonnell    Douglas\n6                Bell              1235      3.19%          bell       None\n7             Douglas               981      2.53%       douglas       None\n8              Mooney               649      1.67%        mooney       None\n9            Robinson               544      1.40%      robinson       None\n10            Tupolev               509      1.31%       tupolev       None\n11            Embraer               439      1.13%       embraer       None\n12           Bellanca               347      0.90%      bellanca       None\n13       Aerospatiale               346      0.89%  aerospatiale       None\n14       De Havilland               337      0.87%            de  Havilland\n15           Lockheed               323      0.83%      lockheed       None\n16  British Aerospace               244      0.63%       british  Aerospace\n17     Aero Commander               243      0.63%          aero  Commander\n18            Grumman               235      0.61%       grumman       None\n19             Fokker               217      0.56%        fokker       None\n20             Hughes               201      0.52%        hughes       None\n21           Rockwell               193      0.50%      rockwell       None\n22                Atr               185      0.48%           atr       None\n23     North American               182      0.47%         north   American\n24         Eurocopter               178      0.46%    eurocopter       None\n25              Total             38766    100.00%         total       None",
      "text/html": "<div>\n<style scoped>\n    .dataframe tbody tr th:only-of-type {\n        vertical-align: middle;\n    }\n\n    .dataframe tbody tr th {\n        vertical-align: top;\n    }\n\n    .dataframe thead th {\n        text-align: right;\n    }\n</style>\n<table border=\"1\" class=\"dataframe\">\n  <thead>\n    <tr style=\"text-align: right;\">\n      <th></th>\n      <th>Make</th>\n      <th>Total Fatalities</th>\n      <th>Percentage</th>\n      <th>ManuF</th>\n      <th>ManuL</th>\n    </tr>\n  </thead>\n  <tbody>\n    <tr>\n      <th>0</th>\n      <td>Cessna</td>\n      <td>9216</td>\n      <td>23.77%</td>\n      <td>cessna</td>\n      <td>None</td>\n    </tr>\n    <tr>\n      <th>1</th>\n      <td>Boeing</td>\n      <td>8203</td>\n      <td>21.16%</td>\n      <td>boeing</td>\n      <td>None</td>\n    </tr>\n    <tr>\n      <th>2</th>\n      <td>Piper</td>\n      <td>6422</td>\n      <td>16.57%</td>\n      <td>piper</td>\n      <td>None</td>\n    </tr>\n    <tr>\n      <th>3</th>\n      <td>Beech</td>\n      <td>3618</td>\n      <td>9.33%</td>\n      <td>beech</td>\n      <td>None</td>\n    </tr>\n    <tr>\n      <th>4</th>\n      <td>Airbus</td>\n      <td>2397</td>\n      <td>6.18%</td>\n      <td>airbus</td>\n      <td>None</td>\n    </tr>\n    <tr>\n      <th>5</th>\n      <td>Mcdonnell Douglas</td>\n      <td>1322</td>\n      <td>3.41%</td>\n      <td>mcdonnell</td>\n      <td>Douglas</td>\n    </tr>\n    <tr>\n      <th>6</th>\n      <td>Bell</td>\n      <td>1235</td>\n      <td>3.19%</td>\n      <td>bell</td>\n      <td>None</td>\n    </tr>\n    <tr>\n      <th>7</th>\n      <td>Douglas</td>\n      <td>981</td>\n      <td>2.53%</td>\n      <td>douglas</td>\n      <td>None</td>\n    </tr>\n    <tr>\n      <th>8</th>\n      <td>Mooney</td>\n      <td>649</td>\n      <td>1.67%</td>\n      <td>mooney</td>\n      <td>None</td>\n    </tr>\n    <tr>\n      <th>9</th>\n      <td>Robinson</td>\n      <td>544</td>\n      <td>1.40%</td>\n      <td>robinson</td>\n      <td>None</td>\n    </tr>\n    <tr>\n      <th>10</th>\n      <td>Tupolev</td>\n      <td>509</td>\n      <td>1.31%</td>\n      <td>tupolev</td>\n      <td>None</td>\n    </tr>\n    <tr>\n      <th>11</th>\n      <td>Embraer</td>\n      <td>439</td>\n      <td>1.13%</td>\n      <td>embraer</td>\n      <td>None</td>\n    </tr>\n    <tr>\n      <th>12</th>\n      <td>Bellanca</td>\n      <td>347</td>\n      <td>0.90%</td>\n      <td>bellanca</td>\n      <td>None</td>\n    </tr>\n    <tr>\n      <th>13</th>\n      <td>Aerospatiale</td>\n      <td>346</td>\n      <td>0.89%</td>\n      <td>aerospatiale</td>\n      <td>None</td>\n    </tr>\n    <tr>\n      <th>14</th>\n      <td>De Havilland</td>\n      <td>337</td>\n      <td>0.87%</td>\n      <td>de</td>\n      <td>Havilland</td>\n    </tr>\n    <tr>\n      <th>15</th>\n      <td>Lockheed</td>\n      <td>323</td>\n      <td>0.83%</td>\n      <td>lockheed</td>\n      <td>None</td>\n    </tr>\n    <tr>\n      <th>16</th>\n      <td>British Aerospace</td>\n      <td>244</td>\n      <td>0.63%</td>\n      <td>british</td>\n      <td>Aerospace</td>\n    </tr>\n    <tr>\n      <th>17</th>\n      <td>Aero Commander</td>\n      <td>243</td>\n      <td>0.63%</td>\n      <td>aero</td>\n      <td>Commander</td>\n    </tr>\n    <tr>\n      <th>18</th>\n      <td>Grumman</td>\n      <td>235</td>\n      <td>0.61%</td>\n      <td>grumman</td>\n      <td>None</td>\n    </tr>\n    <tr>\n      <th>19</th>\n      <td>Fokker</td>\n      <td>217</td>\n      <td>0.56%</td>\n      <td>fokker</td>\n      <td>None</td>\n    </tr>\n    <tr>\n      <th>20</th>\n      <td>Hughes</td>\n      <td>201</td>\n      <td>0.52%</td>\n      <td>hughes</td>\n      <td>None</td>\n    </tr>\n    <tr>\n      <th>21</th>\n      <td>Rockwell</td>\n      <td>193</td>\n      <td>0.50%</td>\n      <td>rockwell</td>\n      <td>None</td>\n    </tr>\n    <tr>\n      <th>22</th>\n      <td>Atr</td>\n      <td>185</td>\n      <td>0.48%</td>\n      <td>atr</td>\n      <td>None</td>\n    </tr>\n    <tr>\n      <th>23</th>\n      <td>North American</td>\n      <td>182</td>\n      <td>0.47%</td>\n      <td>north</td>\n      <td>American</td>\n    </tr>\n    <tr>\n      <th>24</th>\n      <td>Eurocopter</td>\n      <td>178</td>\n      <td>0.46%</td>\n      <td>eurocopter</td>\n      <td>None</td>\n    </tr>\n    <tr>\n      <th>25</th>\n      <td>Total</td>\n      <td>38766</td>\n      <td>100.00%</td>\n      <td>total</td>\n      <td>None</td>\n    </tr>\n  </tbody>\n</table>\n</div>"
     },
     "metadata": {}
    }
   ],
   "execution_count": null
  },
  {
   "cell_type": "markdown",
   "source": "We changed the `aircraft_manu` dataset by adding two columns that splits the values of`Make` column into two strings. Since the code above only took the first character of the string, we must do the same for this dataset, especially for manufacturers like de Havilland.\n\nNow we merge the two to make a new dataset that shows the accidents, the aircrafts involved in the accident, their manufacturers, and the percentages of accidents they are responsible for.",
   "metadata": {
    "cell_id": "4e0279ecba904eddba885366b8ad1d40",
    "tags": [],
    "deepnote_cell_type": "markdown",
    "deepnote_cell_height": 155.984375
   }
  },
  {
   "cell_type": "code",
   "metadata": {
    "cell_id": "1c29e4e4d787447aa7cc09cd781314df",
    "tags": [],
    "deepnote_to_be_reexecuted": true,
    "source_hash": "bf7c0358",
    "execution_start": 1651158414012,
    "execution_millis": 50,
    "deepnote_table_state": {
     "pageSize": 10,
     "pageIndex": 0,
     "filters": [],
     "sortBy": [
      {
       "id": "Fatalities",
       "type": "asc"
      }
     ]
    },
    "deepnote_table_loading": false,
    "deepnote_cell_type": "code",
    "deepnote_cell_height": 701
   },
   "source": "aircraft_data = accidents_df.merge(aircraft_manu,how='left',on='ManuF')\naircraft_data = aircraft_data.drop(columns=['Total Fatalities','ManuL','ManuF'])\naircraft_data = aircraft_data[aircraft_data['Percentage'].notna()]\naircraft_data",
   "outputs": [
    {
     "output_type": "execute_result",
     "execution_count": 6,
     "data": {
      "application/vnd.deepnote.dataframe.v3+json": {
       "column_count": 9,
       "row_count": 23,
       "columns": [
        {
         "name": "Date",
         "dtype": "object",
         "stats": {
          "unique_count": 23,
          "nan_count": 0,
          "categories": [
           {
            "name": "4/17/18",
            "count": 1
           },
           {
            "name": "11/6/18",
            "count": 1
           },
           {
            "name": "21 others",
            "count": 21
           }
          ]
         }
        },
        {
         "name": "Location",
         "dtype": "object",
         "stats": {
          "unique_count": 23,
          "nan_count": 0,
          "categories": [
           {
            "name": "NW of Philadelphia, Pennsylvania",
            "count": 1
           },
           {
            "name": "Georgetown, Guyana",
            "count": 1
           },
           {
            "name": "21 others",
            "count": 21
           }
          ]
         }
        },
        {
         "name": "Model",
         "dtype": "object",
         "stats": {
          "unique_count": 23,
          "nan_count": 0,
          "categories": [
           {
            "name": "Boeing 737-7H4",
            "count": 1
           },
           {
            "name": "Boeing 757-N23",
            "count": 1
           },
           {
            "name": "21 others",
            "count": 21
           }
          ]
         }
        },
        {
         "name": "Registration",
         "dtype": "object",
         "stats": {
          "unique_count": 23,
          "nan_count": 0,
          "categories": [
           {
            "name": "737-7H4",
            "count": 1
           },
           {
            "name": "757-N23",
            "count": 1
           },
           {
            "name": "21 others",
            "count": 21
           }
          ]
         }
        },
        {
         "name": "Fatalities",
         "dtype": "object",
         "stats": {
          "unique_count": 13,
          "nan_count": 0,
          "categories": [
           {
            "name": "100.00%",
            "count": 10
           },
           {
            "name": "83.33%",
            "count": 2
           },
           {
            "name": "11 others",
            "count": 11
           }
          ]
         }
        },
        {
         "name": "lat",
         "dtype": "float64",
         "stats": {
          "unique_count": 23,
          "nan_count": 0,
          "min": "-6.229672953",
          "max": "61.57421792",
          "histogram": [
           {
            "bin_start": -6.229672953,
            "bin_end": 0.5507161343,
            "count": 3
           },
           {
            "bin_start": 0.5507161343,
            "bin_end": 7.3311052216,
            "count": 3
           },
           {
            "bin_start": 7.3311052216,
            "bin_end": 14.111494308899998,
            "count": 3
           },
           {
            "bin_start": 14.111494308899998,
            "bin_end": 20.8918833962,
            "count": 0
           },
           {
            "bin_start": 20.8918833962,
            "bin_end": 27.672272483500002,
            "count": 2
           },
           {
            "bin_start": 27.672272483500002,
            "bin_end": 34.4526615708,
            "count": 4
           },
           {
            "bin_start": 34.4526615708,
            "bin_end": 41.2330506581,
            "count": 6
           },
           {
            "bin_start": 41.2330506581,
            "bin_end": 48.0134397454,
            "count": 1
           },
           {
            "bin_start": 48.0134397454,
            "bin_end": 54.7938288327,
            "count": 0
           },
           {
            "bin_start": 54.7938288327,
            "bin_end": 61.57421792,
            "count": 1
           }
          ]
         }
        },
        {
         "name": "lon",
         "dtype": "float64",
         "stats": {
          "unique_count": 23,
          "nan_count": 0,
          "min": "-148.9807188",
          "max": "153.5432394",
          "histogram": [
           {
            "bin_start": -148.9807188,
            "bin_end": -118.72832298,
            "count": 1
           },
           {
            "bin_start": -118.72832298,
            "bin_end": -88.47592716,
            "count": 2
           },
           {
            "bin_start": -88.47592716,
            "bin_end": -58.223531339999994,
            "count": 5
           },
           {
            "bin_start": -58.223531339999994,
            "bin_end": -27.97113551999999,
            "count": 1
           },
           {
            "bin_start": -27.97113551999999,
            "bin_end": 2.281260300000014,
            "count": 0
           },
           {
            "bin_start": 2.281260300000014,
            "bin_end": 32.53365612000002,
            "count": 1
           },
           {
            "bin_start": 32.53365612000002,
            "bin_end": 62.78605194000002,
            "count": 5
           },
           {
            "bin_start": 62.78605194000002,
            "bin_end": 93.03844776000003,
            "count": 4
           },
           {
            "bin_start": 93.03844776000003,
            "bin_end": 123.29084358000003,
            "count": 3
           },
           {
            "bin_start": 123.29084358000003,
            "bin_end": 153.5432394,
            "count": 1
           }
          ]
         }
        },
        {
         "name": "Make",
         "dtype": "object",
         "stats": {
          "unique_count": 9,
          "nan_count": 0,
          "categories": [
           {
            "name": "Boeing",
            "count": 12
           },
           {
            "name": "Eurocopter",
            "count": 3
           },
           {
            "name": "7 others",
            "count": 8
           }
          ]
         }
        },
        {
         "name": "Percentage",
         "dtype": "object",
         "stats": {
          "unique_count": 9,
          "nan_count": 0,
          "categories": [
           {
            "name": "21.16%",
            "count": 12
           },
           {
            "name": "0.46%",
            "count": 3
           },
           {
            "name": "7 others",
            "count": 8
           }
          ]
         }
        },
        {
         "name": "_deepnote_index_column",
         "dtype": "int64"
        }
       ],
       "rows": [
        {
         "Date": "4/17/18",
         "Location": "NW of Philadelphia, Pennsylvania",
         "Model": "Boeing 737-7H4",
         "Registration": "737-7H4",
         "Fatalities": "0.67%",
         "lat": 40.220593,
         "lon": -75.32947645,
         "Make": "Boeing",
         "Percentage": "21.16%",
         "_deepnote_index_column": 9
        },
        {
         "Date": "11/6/18",
         "Location": "Georgetown, Guyana",
         "Model": "Boeing 757-N23",
         "Registration": "757-N23",
         "Fatalities": "0.78%",
         "lat": 6.801941577,
         "lon": -58.15668609,
         "Make": "Boeing",
         "Percentage": "21.16%",
         "_deepnote_index_column": 18
        },
        {
         "Date": "2/5/20",
         "Location": "Istanbul, Turkey",
         "Model": "Boeing 737-86J",
         "Registration": "737-86J",
         "Fatalities": "1.69%",
         "lat": 41.12417167,
         "lon": 28.93474426,
         "Make": "Boeing",
         "Percentage": "21.16%",
         "_deepnote_index_column": 34
        },
        {
         "Date": "8/7/20",
         "Location": "Calicut, India",
         "Model": "Boeing 737-8HG",
         "Registration": "737-8HG",
         "Fatalities": "10.53%",
         "lat": 11.34939478,
         "lon": 75.77578372,
         "Make": "Boeing",
         "Percentage": "21.16%",
         "_deepnote_index_column": 37
        },
        {
         "Date": "1/8/20",
         "Location": "Near Shahriah, Iran",
         "Model": "Boeing 737-8KV WL",
         "Registration": "737-8KV WL",
         "Fatalities": "100.00%",
         "lat": 35.6672553,
         "lon": 51.02603343,
         "Make": "Boeing",
         "Percentage": "21.16%",
         "_deepnote_index_column": 33
        },
        {
         "Date": "2/18/18",
         "Location": "Kohangan village, Iran",
         "Model": "ATR 72-212",
         "Registration": "72-212",
         "Fatalities": "100.00%",
         "lat": 30.89611154,
         "lon": 51.65101995,
         "Make": "Atr",
         "Percentage": "0.48%",
         "_deepnote_index_column": 3
        },
        {
         "Date": "1/9/21",
         "Location": "Near Jakarta, Indonesia",
         "Model": "Boeing 737-524",
         "Registration": "737-524",
         "Fatalities": "100.00%",
         "lat": -6.229672953,
         "lon": 106.8335914,
         "Make": "Boeing",
         "Percentage": "21.16%",
         "_deepnote_index_column": 40
        },
        {
         "Date": "5/2/18",
         "Location": "Port Wentworth, Georgia",
         "Model": "Lockheed HC-130H Hercules",
         "Registration": "HC-130H Hercules",
         "Fatalities": "100.00%",
         "lat": 32.16344155,
         "lon": -81.17887335,
         "Make": "Lockheed",
         "Percentage": "0.83%",
         "_deepnote_index_column": 10
        },
        {
         "Date": "5/18/18",
         "Location": "Havana, Cuba",
         "Model": "Boeing 737-201",
         "Registration": "737-201",
         "Fatalities": "100.00%",
         "lat": 23.08760814,
         "lon": -82.33592151,
         "Make": "Boeing",
         "Percentage": "21.16%",
         "_deepnote_index_column": 11
        },
        {
         "Date": "6/5/18",
         "Location": "Near Njabini, Kenya",
         "Model": "Cessna 208B Grand Carivan",
         "Registration": "208B Grand Carivan",
         "Fatalities": "100.00%",
         "lat": -0.721656117,
         "lon": 36.64967182,
         "Make": "Cessna",
         "Percentage": "23.77%",
         "_deepnote_index_column": 12
        }
       ]
      },
      "text/plain": "        Date                          Location  \\\n1    2/10/18             Grand Canyon, Arizona   \n3    2/18/18            Kohangan village, Iran   \n5    3/11/18                New York, New York   \n7    3/12/18                  Kathmandu, Nepal   \n9    4/17/18  NW of Philadelphia, Pennsylvania   \n10    5/2/18           Port Wentworth, Georgia   \n11   5/18/18                      Havana, Cuba   \n12    6/5/18               Near Njabini, Kenya   \n16   9/28/18                 Chuuk, Micronesia   \n17  10/29/18            Off Jakarta, Indonesia   \n18   11/6/18                Georgetown, Guyana   \n19   1/14/19                       Karaj, Iran   \n20   2/23/19                    Houston, Texas   \n21    3/9/19     Vereda La Bendicion, Colombia   \n22   3/10/19                Bishoftu, Ethiopia   \n31  12/27/19                Almaty, Kazakhstan   \n33    1/8/20               Near Shahriah, Iran   \n34    2/5/20                  Istanbul, Turkey   \n36   5/22/20                 Karachi, Pakistan   \n37    8/7/20                    Calicut, India   \n40    1/9/21           Near Jakarta, Indonesia   \n42   3/28/21                Near Butte, Alaska   \n45    7/4/21        Patikul, Sulu, Philippines   \n\n                                    Model                        Registration  \\\n1                     Eurocopter EC 130B4                            EC 130B4   \n3                              ATR 72-212                              72-212   \n5                     Eurocopter AS 350B2                            AS 350B2   \n7   de Havilland Canada DHC-8-402Q Dash 8  Havilland Canada DHC-8-402Q Dash 8   \n9                          Boeing 737-7H4                             737-7H4   \n10              Lockheed HC-130H Hercules                    HC-130H Hercules   \n11                         Boeing 737-201                             737-201   \n12              Cessna 208B Grand Carivan                  208B Grand Carivan   \n16                         Boeing 737-8BK                             737-8BK   \n17                       Boeing 737-MAX 8                           737-MAX 8   \n18                         Boeing 757-N23                             757-N23   \n19                        Boeing 707-3J9C                            707-3J9C   \n20                       Boeing 767-375ER                           767-375ER   \n21                           Douglas DC-3                                DC-3   \n22                       Boeing 737 Max 8                           737 Max 8   \n31                             Fokker 100                                 100   \n33                      Boeing 737-8KV WL                          737-8KV WL   \n34                         Boeing 737-86J                             737-86J   \n36                        Airbus A320-214                            A320-214   \n37                         Boeing 737-8HG                             737-8HG   \n40                         Boeing 737-524                             737-524   \n42            Eurocopter AS350B3 Ecureuil                    AS350B3 Ecureuil   \n45               Lockheed C-130H Hercules                     C-130H Hercules   \n\n   Fatalities        lat         lon          Make Percentage  \n1      42.86%  36.101814 -112.122570    Eurocopter      0.46%  \n3     100.00%  30.896112   51.651020           Atr      0.48%  \n5      83.33%  40.727368  -73.900166    Eurocopter      0.46%  \n7      71.83%  27.753845   85.307796  De Havilland      0.87%  \n9       0.67%  40.220593  -75.329476        Boeing     21.16%  \n10    100.00%  32.163442  -81.178873      Lockheed      0.83%  \n11    100.00%  23.087608  -82.335922        Boeing     21.16%  \n12    100.00%  -0.721656   36.649672        Cessna     23.77%  \n16      2.13%   5.491396  153.543239        Boeing     21.16%  \n17    100.00%  -6.058998  106.701756        Boeing     21.16%  \n18      0.78%   6.801942  -58.156686        Boeing     21.16%  \n19     93.75%  35.886360   51.002232        Boeing     21.16%  \n20    100.00%  29.917269  -95.242642        Boeing     21.16%  \n21    100.00%   7.647442  -76.720762       Douglas      2.53%  \n22    100.00%   8.758863   39.008498        Boeing     21.16%  \n31     12.24%  43.170286   76.944036        Fokker      0.56%  \n33    100.00%  35.667255   51.026033        Boeing     21.16%  \n34      1.69%  41.124172   28.934744        Boeing     21.16%  \n36     97.98%  25.089540   67.204207        Airbus      6.18%  \n37     10.53%  11.349395   75.775784        Boeing     21.16%  \n40    100.00%  -6.229673  106.833591        Boeing     21.16%  \n42     83.33%  61.574218 -148.980719    Eurocopter      0.46%  \n45     52.08%   6.044126  121.086192      Lockheed      0.83%  ",
      "text/html": "<div>\n<style scoped>\n    .dataframe tbody tr th:only-of-type {\n        vertical-align: middle;\n    }\n\n    .dataframe tbody tr th {\n        vertical-align: top;\n    }\n\n    .dataframe thead th {\n        text-align: right;\n    }\n</style>\n<table border=\"1\" class=\"dataframe\">\n  <thead>\n    <tr style=\"text-align: right;\">\n      <th></th>\n      <th>Date</th>\n      <th>Location</th>\n      <th>Model</th>\n      <th>Registration</th>\n      <th>Fatalities</th>\n      <th>lat</th>\n      <th>lon</th>\n      <th>Make</th>\n      <th>Percentage</th>\n    </tr>\n  </thead>\n  <tbody>\n    <tr>\n      <th>1</th>\n      <td>2/10/18</td>\n      <td>Grand Canyon, Arizona</td>\n      <td>Eurocopter EC 130B4</td>\n      <td>EC 130B4</td>\n      <td>42.86%</td>\n      <td>36.101814</td>\n      <td>-112.122570</td>\n      <td>Eurocopter</td>\n      <td>0.46%</td>\n    </tr>\n    <tr>\n      <th>3</th>\n      <td>2/18/18</td>\n      <td>Kohangan village, Iran</td>\n      <td>ATR 72-212</td>\n      <td>72-212</td>\n      <td>100.00%</td>\n      <td>30.896112</td>\n      <td>51.651020</td>\n      <td>Atr</td>\n      <td>0.48%</td>\n    </tr>\n    <tr>\n      <th>5</th>\n      <td>3/11/18</td>\n      <td>New York, New York</td>\n      <td>Eurocopter AS 350B2</td>\n      <td>AS 350B2</td>\n      <td>83.33%</td>\n      <td>40.727368</td>\n      <td>-73.900166</td>\n      <td>Eurocopter</td>\n      <td>0.46%</td>\n    </tr>\n    <tr>\n      <th>7</th>\n      <td>3/12/18</td>\n      <td>Kathmandu, Nepal</td>\n      <td>de Havilland Canada DHC-8-402Q Dash 8</td>\n      <td>Havilland Canada DHC-8-402Q Dash 8</td>\n      <td>71.83%</td>\n      <td>27.753845</td>\n      <td>85.307796</td>\n      <td>De Havilland</td>\n      <td>0.87%</td>\n    </tr>\n    <tr>\n      <th>9</th>\n      <td>4/17/18</td>\n      <td>NW of Philadelphia, Pennsylvania</td>\n      <td>Boeing 737-7H4</td>\n      <td>737-7H4</td>\n      <td>0.67%</td>\n      <td>40.220593</td>\n      <td>-75.329476</td>\n      <td>Boeing</td>\n      <td>21.16%</td>\n    </tr>\n    <tr>\n      <th>10</th>\n      <td>5/2/18</td>\n      <td>Port Wentworth, Georgia</td>\n      <td>Lockheed HC-130H Hercules</td>\n      <td>HC-130H Hercules</td>\n      <td>100.00%</td>\n      <td>32.163442</td>\n      <td>-81.178873</td>\n      <td>Lockheed</td>\n      <td>0.83%</td>\n    </tr>\n    <tr>\n      <th>11</th>\n      <td>5/18/18</td>\n      <td>Havana, Cuba</td>\n      <td>Boeing 737-201</td>\n      <td>737-201</td>\n      <td>100.00%</td>\n      <td>23.087608</td>\n      <td>-82.335922</td>\n      <td>Boeing</td>\n      <td>21.16%</td>\n    </tr>\n    <tr>\n      <th>12</th>\n      <td>6/5/18</td>\n      <td>Near Njabini, Kenya</td>\n      <td>Cessna 208B Grand Carivan</td>\n      <td>208B Grand Carivan</td>\n      <td>100.00%</td>\n      <td>-0.721656</td>\n      <td>36.649672</td>\n      <td>Cessna</td>\n      <td>23.77%</td>\n    </tr>\n    <tr>\n      <th>16</th>\n      <td>9/28/18</td>\n      <td>Chuuk, Micronesia</td>\n      <td>Boeing 737-8BK</td>\n      <td>737-8BK</td>\n      <td>2.13%</td>\n      <td>5.491396</td>\n      <td>153.543239</td>\n      <td>Boeing</td>\n      <td>21.16%</td>\n    </tr>\n    <tr>\n      <th>17</th>\n      <td>10/29/18</td>\n      <td>Off Jakarta, Indonesia</td>\n      <td>Boeing 737-MAX 8</td>\n      <td>737-MAX 8</td>\n      <td>100.00%</td>\n      <td>-6.058998</td>\n      <td>106.701756</td>\n      <td>Boeing</td>\n      <td>21.16%</td>\n    </tr>\n    <tr>\n      <th>18</th>\n      <td>11/6/18</td>\n      <td>Georgetown, Guyana</td>\n      <td>Boeing 757-N23</td>\n      <td>757-N23</td>\n      <td>0.78%</td>\n      <td>6.801942</td>\n      <td>-58.156686</td>\n      <td>Boeing</td>\n      <td>21.16%</td>\n    </tr>\n    <tr>\n      <th>19</th>\n      <td>1/14/19</td>\n      <td>Karaj, Iran</td>\n      <td>Boeing 707-3J9C</td>\n      <td>707-3J9C</td>\n      <td>93.75%</td>\n      <td>35.886360</td>\n      <td>51.002232</td>\n      <td>Boeing</td>\n      <td>21.16%</td>\n    </tr>\n    <tr>\n      <th>20</th>\n      <td>2/23/19</td>\n      <td>Houston, Texas</td>\n      <td>Boeing 767-375ER</td>\n      <td>767-375ER</td>\n      <td>100.00%</td>\n      <td>29.917269</td>\n      <td>-95.242642</td>\n      <td>Boeing</td>\n      <td>21.16%</td>\n    </tr>\n    <tr>\n      <th>21</th>\n      <td>3/9/19</td>\n      <td>Vereda La Bendicion, Colombia</td>\n      <td>Douglas DC-3</td>\n      <td>DC-3</td>\n      <td>100.00%</td>\n      <td>7.647442</td>\n      <td>-76.720762</td>\n      <td>Douglas</td>\n      <td>2.53%</td>\n    </tr>\n    <tr>\n      <th>22</th>\n      <td>3/10/19</td>\n      <td>Bishoftu, Ethiopia</td>\n      <td>Boeing 737 Max 8</td>\n      <td>737 Max 8</td>\n      <td>100.00%</td>\n      <td>8.758863</td>\n      <td>39.008498</td>\n      <td>Boeing</td>\n      <td>21.16%</td>\n    </tr>\n    <tr>\n      <th>31</th>\n      <td>12/27/19</td>\n      <td>Almaty, Kazakhstan</td>\n      <td>Fokker 100</td>\n      <td>100</td>\n      <td>12.24%</td>\n      <td>43.170286</td>\n      <td>76.944036</td>\n      <td>Fokker</td>\n      <td>0.56%</td>\n    </tr>\n    <tr>\n      <th>33</th>\n      <td>1/8/20</td>\n      <td>Near Shahriah, Iran</td>\n      <td>Boeing 737-8KV WL</td>\n      <td>737-8KV WL</td>\n      <td>100.00%</td>\n      <td>35.667255</td>\n      <td>51.026033</td>\n      <td>Boeing</td>\n      <td>21.16%</td>\n    </tr>\n    <tr>\n      <th>34</th>\n      <td>2/5/20</td>\n      <td>Istanbul, Turkey</td>\n      <td>Boeing 737-86J</td>\n      <td>737-86J</td>\n      <td>1.69%</td>\n      <td>41.124172</td>\n      <td>28.934744</td>\n      <td>Boeing</td>\n      <td>21.16%</td>\n    </tr>\n    <tr>\n      <th>36</th>\n      <td>5/22/20</td>\n      <td>Karachi, Pakistan</td>\n      <td>Airbus A320-214</td>\n      <td>A320-214</td>\n      <td>97.98%</td>\n      <td>25.089540</td>\n      <td>67.204207</td>\n      <td>Airbus</td>\n      <td>6.18%</td>\n    </tr>\n    <tr>\n      <th>37</th>\n      <td>8/7/20</td>\n      <td>Calicut, India</td>\n      <td>Boeing 737-8HG</td>\n      <td>737-8HG</td>\n      <td>10.53%</td>\n      <td>11.349395</td>\n      <td>75.775784</td>\n      <td>Boeing</td>\n      <td>21.16%</td>\n    </tr>\n    <tr>\n      <th>40</th>\n      <td>1/9/21</td>\n      <td>Near Jakarta, Indonesia</td>\n      <td>Boeing 737-524</td>\n      <td>737-524</td>\n      <td>100.00%</td>\n      <td>-6.229673</td>\n      <td>106.833591</td>\n      <td>Boeing</td>\n      <td>21.16%</td>\n    </tr>\n    <tr>\n      <th>42</th>\n      <td>3/28/21</td>\n      <td>Near Butte, Alaska</td>\n      <td>Eurocopter AS350B3 Ecureuil</td>\n      <td>AS350B3 Ecureuil</td>\n      <td>83.33%</td>\n      <td>61.574218</td>\n      <td>-148.980719</td>\n      <td>Eurocopter</td>\n      <td>0.46%</td>\n    </tr>\n    <tr>\n      <th>45</th>\n      <td>7/4/21</td>\n      <td>Patikul, Sulu, Philippines</td>\n      <td>Lockheed C-130H Hercules</td>\n      <td>C-130H Hercules</td>\n      <td>52.08%</td>\n      <td>6.044126</td>\n      <td>121.086192</td>\n      <td>Lockheed</td>\n      <td>0.83%</td>\n    </tr>\n  </tbody>\n</table>\n</div>"
     },
     "metadata": {}
    }
   ],
   "execution_count": null
  },
  {
   "cell_type": "markdown",
   "source": "Above is the new, cleaned `aircraft_data` dataset with the combined data. Columns `Total Fatalities`, `ManuL`, and `ManuF` were dropped as they were not necessary to the research.\n\nNow that we have our dataset, we have to create a dashboard using streamlit. We want a dashboard where we can see specific manufacturers, the accidents during 2018-2022 involving one of their aircrafts, and where were the accidents located. This is where the `lat` and `lon` columns come into play.",
   "metadata": {
    "cell_id": "5007aafd8b8845139ec5fce584ba6dd7",
    "tags": [],
    "deepnote_cell_type": "markdown",
    "deepnote_cell_height": 178.390625
   }
  },
  {
   "cell_type": "code",
   "metadata": {
    "cell_id": "9152b05dc2b740aba37e75eab3870814",
    "tags": [],
    "deepnote_to_be_reexecuted": true,
    "source_hash": "61ad26e0",
    "execution_start": 1651158414068,
    "execution_millis": 176,
    "deepnote_cell_type": "code",
    "deepnote_cell_height": 373.15625,
    "deepnote_output_heights": [
     null,
     21.1875
    ]
   },
   "source": "st.title('Aircraft Accidents 2018-2022')\nchoice = st.sidebar.selectbox(\"Manufacturer\",aircraft_data.Make.unique())\n\nchoice_manu = aircraft_data[aircraft_data['Make']==choice]\nchoice_manu\nloc = choice_manu[['lat','lon']]\n\nst.map(loc)",
   "outputs": [
    {
     "name": "stderr",
     "text": "2022-04-28 15:06:54.193 \n  \u001b[33m\u001b[1mWarning:\u001b[0m to view this Streamlit app on a browser, run it with the following\n  command:\n\n    streamlit run /shared-libs/python3.7/py-core/lib/python3.7/site-packages/ipykernel_launcher.py [ARGUMENTS]\n",
     "output_type": "stream"
    },
    {
     "output_type": "execute_result",
     "execution_count": 7,
     "data": {
      "text/plain": "DeltaGenerator(_root_container=0, _provided_cursor=None, _parent=None, _block_type=None, _form_data=None)"
     },
     "metadata": {}
    }
   ],
   "execution_count": null
  },
  {
   "cell_type": "markdown",
   "source": "There is not meant to be an output here. The results of this code is meant to be shown in the Streamlit dashboard.\n\nThe following code is meant to display the dashboard, showing the results of all our code.",
   "metadata": {
    "cell_id": "49d8b636833449cfa520b0fd6507f148",
    "tags": [],
    "deepnote_cell_type": "markdown",
    "deepnote_cell_height": 111.1875
   }
  },
  {
   "cell_type": "code",
   "metadata": {
    "cell_id": "9de47240b2c8433f8a75e98431ec88b0",
    "tags": [],
    "deepnote_to_be_reexecuted": true,
    "source_hash": "1e1d637c",
    "execution_start": 1651158414228,
    "execution_millis": 22,
    "deepnote_cell_type": "code",
    "deepnote_cell_height": 199.796875,
    "deepnote_output_heights": [
     48.796875
    ]
   },
   "source": "from IPython.display import HTML\nimport os\n\ndisplay( HTML( f'<h2><a href=\"http://{os.environ[\"DEEPNOTE_PROJECT_ID\"]}.deepnoteproject.com\" target=\"_blank\">Click here to open your Streamlit app.</a></h2>' ) )",
   "outputs": [
    {
     "data": {
      "text/plain": "<IPython.core.display.HTML object>",
      "text/html": "<h2><a href=\"http://174ece8e-9da1-4371-a2cd-1c30546a5476.deepnoteproject.com\" target=\"_blank\">Click here to open your Streamlit app.</a></h2>"
     },
     "metadata": {},
     "output_type": "display_data"
    }
   ],
   "execution_count": null
  },
  {
   "cell_type": "code",
   "metadata": {
    "cell_id": "fcd4c11568e8411f95f83db753f1e03f",
    "tags": [],
    "deepnote_to_be_reexecuted": true,
    "source_hash": "7d8f5d2b",
    "execution_start": 1651158414248,
    "execution_millis": 0,
    "deepnote_cell_type": "code",
    "deepnote_cell_height": 111.6875
   },
   "source": "%env PROJECT_FOLDER MA-346-Final-Project",
   "outputs": [
    {
     "name": "stdout",
     "text": "env: PROJECT_FOLDER=MA-346-Final-Project\n",
     "output_type": "stream"
    }
   ],
   "execution_count": null
  },
  {
   "cell_type": "code",
   "metadata": {
    "cell_id": "17ab745f28c0488a8dc97889e55246b6",
    "tags": [],
    "owner_user_id": "f79b52f0-f056-4817-802d-069025e91193",
    "deepnote_to_be_reexecuted": true,
    "source_hash": "70062ed7",
    "execution_start": 1651158414258,
    "execution_millis": 3720,
    "deepnote_cell_type": "code",
    "deepnote_cell_height": 759
   },
   "source": "# This copies the latest version of all your files into the folder for syncing with GitHub:\n!cp ../*.* \"../$PROJECT_FOLDER/\"\n\n# This commits those changes and pushes them to GitHub:\n!cd \"../$PROJECT_FOLDER/\" && git add -A && git commit -m 'Aircraft Accidents' && git push",
   "outputs": [
    {
     "name": "stdout",
     "text": "[main d6d78b6] Committ Message\n Committer: root <root@p-174ece8e-9da1-4371-a2cd-1c30546a5476.projects-domain.projects.svc.cluster.local>\nYour name and email address were configured automatically based\non your username and hostname. Please check that they are accurate.\nYou can suppress this message by setting them explicitly. Run the\nfollowing command and follow the instructions in your editor to edit\nyour configuration file:\n\n    git config --global --edit\n\nAfter doing this, you may fix the identity used for this commit with:\n\n    git commit --amend --reset-author\n\n 2 files changed, 43 insertions(+), 430 deletions(-)\n delete mode 100644 streamlit_app.py\nEnumerating objects: 5, done.\nCounting objects: 100% (5/5), done.\nDelta compression using up to 2 threads\nCompressing objects: 100% (3/3), done.\nWriting objects: 100% (3/3), 1.61 KiB | 825.00 KiB/s, done.\nTotal 3 (delta 2), reused 0 (delta 0)\nremote: Resolving deltas: 100% (2/2), completed with 2 local objects.\u001b[K\nTo https://github.com/elbin-167/MA-346-Final-Project.git\n   12d4220..d6d78b6  main -> main\n",
     "output_type": "stream"
    }
   ],
   "execution_count": null
  },
  {
   "cell_type": "code",
   "metadata": {
    "cell_id": "e7c5d87c2ee04233947930b3d7bc0e03",
    "tags": [],
    "deepnote_to_be_reexecuted": true,
    "source_hash": "6214ad8d",
    "execution_start": 1651158417630,
    "execution_millis": 75461,
    "deepnote_cell_type": "code",
    "deepnote_cell_height": 230
   },
   "source": "!streamlit run notebook.py --server.port=8080 --server.address='0.0.0.0'",
   "outputs": [
    {
     "name": "stdout",
     "text": "\u001b[0m\n\u001b[34m\u001b[1m  You can now view your Streamlit app in your browser.\u001b[0m\n\u001b[0m\n\u001b[34m  URL: \u001b[0m\u001b[1mhttp://0.0.0.0:8080\u001b[0m\n\u001b[0m\n^C\n\u001b[34m  Stopping...\u001b[0m\n",
     "output_type": "stream"
    }
   ],
   "execution_count": null
  },
  {
   "cell_type": "markdown",
   "source": "<a style='text-decoration:none;line-height:16px;display:flex;color:#5B5B62;padding:10px;justify-content:end;' href='https://deepnote.com?utm_source=created-in-deepnote-cell&projectId=174ece8e-9da1-4371-a2cd-1c30546a5476' target=\"_blank\">\n<img alt='Created in deepnote.com' style='display:inline;max-height:16px;margin:0px;margin-right:7.5px;' src='data:image/svg+xml;base64,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' > </img>\nCreated in <span style='font-weight:600;margin-left:4px;'>Deepnote</span></a>",
   "metadata": {
    "tags": [],
    "created_in_deepnote_cell": true,
    "deepnote_cell_type": "markdown"
   }
  }
 ],
 "nbformat": 4,
 "nbformat_minor": 2,
 "metadata": {
  "orig_nbformat": 2,
  "deepnote": {},
  "deepnote_notebook_id": "73243b68-7e2d-46bd-bcde-381f8a1f168a",
  "deepnote_execution_queue": [
   {
    "cellId": "19286fb5-9527-4b5a-b2e0-a1dc60c6a465",
    "sessionId": "966431ee-78c1-43de-a5a5-e208e2c81555",
    "msgId": "193ba2b2-aad6-4155-a565-39221fc11df6"
   },
   {
    "cellId": "b1fd908488584edb88315c4612c20fef",
    "sessionId": "966431ee-78c1-43de-a5a5-e208e2c81555",
    "msgId": "72f7c1ee-a69f-4a0a-9201-51f04dbd2a1a"
   },
   {
    "cellId": "ed948dbb944640c494ed8da17a1f9559",
    "sessionId": "966431ee-78c1-43de-a5a5-e208e2c81555",
    "msgId": "ac720c29-23ed-48c9-b4fe-287bafa022c6"
   },
   {
    "cellId": "1153f75076ba4f418295ad314a04d848",
    "sessionId": "966431ee-78c1-43de-a5a5-e208e2c81555",
    "msgId": "3dfc4a63-4364-4198-aa9a-98e4d922e2a1"
   },
   {
    "cellId": "f4763f81c96f40a08d99b992adfd99cf",
    "sessionId": "966431ee-78c1-43de-a5a5-e208e2c81555",
    "msgId": "2196a7ff-804a-4228-879b-93e547c1594b"
   },
   {
    "cellId": "1c29e4e4d787447aa7cc09cd781314df",
    "sessionId": "966431ee-78c1-43de-a5a5-e208e2c81555",
    "msgId": "dbae3263-9977-4001-8b54-5e5f281f2779"
   },
   {
    "cellId": "9152b05dc2b740aba37e75eab3870814",
    "sessionId": "966431ee-78c1-43de-a5a5-e208e2c81555",
    "msgId": "77b49290-6fa8-4777-8266-46494b44d14b"
   },
   {
    "cellId": "9de47240b2c8433f8a75e98431ec88b0",
    "sessionId": "966431ee-78c1-43de-a5a5-e208e2c81555",
    "msgId": "a7383d74-a72e-4e5d-911c-a4f82da6d75b"
   },
   {
    "cellId": "fcd4c11568e8411f95f83db753f1e03f",
    "sessionId": "966431ee-78c1-43de-a5a5-e208e2c81555",
    "msgId": "4eca7164-3f1c-43af-8fbb-7b2404432eda"
   },
   {
    "cellId": "17ab745f28c0488a8dc97889e55246b6",
    "sessionId": "966431ee-78c1-43de-a5a5-e208e2c81555",
    "msgId": "72ed9c43-07ec-45c2-bad5-7a4989abe7fd"
   },
   {
    "cellId": "e7c5d87c2ee04233947930b3d7bc0e03",
    "sessionId": "966431ee-78c1-43de-a5a5-e208e2c81555",
    "msgId": "0d5ea229-0857-47ab-821a-93d90553ac81"
   }
  ]
 }
}